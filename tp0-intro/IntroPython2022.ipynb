{
 "cells": [
  {
   "cell_type": "markdown",
   "metadata": {
    "id": "8j0f1scVouTD"
   },
   "source": [
    "# Introduccion a Python 2022\n"
   ]
  },
  {
   "cell_type": "markdown",
   "metadata": {
    "id": "8V6Ujxx2ouTE"
   },
   "source": [
    "  - Python es un lenguaje de programación de scripting orientado a objetos\n",
    "  - Es un lenguaje interpretado.\n",
    "  - Nos permite interactuar con otros lenguajes e incorporarlos a nuestros códigos.\n",
    "\n",
    "        + Les recomiendo algunas páginas que suelen tener mucha información y bibliografía:\n",
    "             http://www.python.org.ar/\n",
    "\n",
    "             https://djangogirls.org/"
   ]
  },
  {
   "cell_type": "code",
   "execution_count": 1,
   "metadata": {
    "colab": {
     "base_uri": "https://localhost:8080/"
    },
    "executionInfo": {
     "elapsed": 6,
     "status": "ok",
     "timestamp": 1629843248716,
     "user": {
      "displayName": "Leonardo Miguel Albarracin",
      "photoUrl": "https://lh3.googleusercontent.com/a-/AOh14GiACva8VFYfp-luGww-L7wbZe0xouSCTyBQDvXcCQ=s64",
      "userId": "16397909066210112589"
     },
     "user_tz": 180
    },
    "id": "_1iykdduD08z",
    "outputId": "fc500e09-a308-4c03-df88-7c1971afabc0"
   },
   "outputs": [
    {
     "name": "stdout",
     "output_type": "stream",
     "text": [
      "hola mundo\n"
     ]
    }
   ],
   "source": [
    "print(\"hola mundo\")"
   ]
  },
  {
   "cell_type": "markdown",
   "metadata": {
    "id": "0o6M-6S7ouTF"
   },
   "source": [
    "## ¿Por qué python?\n",
    "* Easy to learn\n",
    "* Es rápido escribir código\n",
    "* Muchos recursos disponibles\n",
    "* Multiplataforma (Windows, Linux, Mac)"
   ]
  },
  {
   "cell_type": "markdown",
   "metadata": {},
   "source": [
    "# PYTHON EN Jupyter-notebook\n",
    "\n",
    "Jupyter es una consola interactiva para diversos lenguajes, principalmente Julia (IJulia), Python (IPython) y R. Permite integrar código con sus resultados, anotaciones, imágenes, etc. Finalmente se obtiene una notebook que puede compartirse para que otras personas la ejecuten.\n",
    "\n",
    "Los elementos básicos de jupyter son celdas, que pueden ser de código o de comentarios. Cada celda se puede ejecutar individualmente y el resultado se registra debajo de cada celda.\n",
    "\n",
    "Las céldas de comentarios se pueden escribir en un formato se llamado markdown https://jupyter-notebook.readthedocs.io/en/stable/examples/Notebook/Working%20With%20Markdown%20Cells.html \n",
    "\n",
    "En este tutorial, encontraran bloques de código listo para ejecutar, y otros en donde uds tendran que codificar. "
   ]
  },
  {
   "cell_type": "markdown",
   "metadata": {
    "id": "gT5f1fvSouTG"
   },
   "source": [
    "### PYTHON EN GOOGLE COLABS\n",
    "\n",
    "Google Colaboratory es un entorno gratuito de Jupyter Notebook que no requiere configuración y que se ejecuta completamente en la nube. Permite integrar en un mismo documento, tanto celdas de código como texto, gráficas o imágenes.\n",
    "En la plataforma podrá encontrar el tutorial de Google Colabas dado en el 2021.\n"
   ]
  },
  {
   "cell_type": "markdown",
   "metadata": {
    "id": "V6vXoWmXouTJ"
   },
   "source": [
    "## Comentarios"
   ]
  },
  {
   "cell_type": "code",
   "execution_count": null,
   "metadata": {
    "id": "9jQPdRzaouTK"
   },
   "outputs": [],
   "source": [
    "'''\n",
    "Comentario largo,\n",
    "ocupa varias líneas\n",
    "en Python.\n",
    "Deben estar encerradas por triple comilla simple/doble.\n",
    "\n",
    "Este es un comentario\n",
    "usando comillas simples\n",
    "'''\n",
    "\n",
    "\n",
    "\n",
    "\"\"\"\n",
    "Este es un comentario\n",
    "usando comillas dobles\n",
    "\"\"\"\n",
    "# comentario para una linea\n",
    "\n",
    "#print es una funcion que permite escribir en pantalla\n",
    "print(\"Hola mundo\") \n"
   ]
  },
  {
   "cell_type": "markdown",
   "metadata": {
    "id": "3X82CAS2ouTQ"
   },
   "source": [
    "\n",
    "**EJERCICIO:** Escribir una sentencia que imprima en pantalla: \"Bienvenido a MNI\""
   ]
  },
  {
   "cell_type": "code",
   "execution_count": 2,
   "metadata": {
    "id": "4vOkT3kCouTR"
   },
   "outputs": [
    {
     "name": "stdout",
     "output_type": "stream",
     "text": [
      "Bienvenido a Métodos numéricos\n"
     ]
    }
   ],
   "source": [
    "print(\"Bienvenido a Métodos numéricos\")"
   ]
  },
  {
   "cell_type": "markdown",
   "metadata": {
    "id": "H0_bQt3oouTV"
   },
   "source": [
    "## Tipos de Datos\n",
    "\n",
    "### Algunos de los tipos básicos de datos en Python son:\n",
    "* int - para representar números enteros\n",
    "* long - para representar números enteros largos\n",
    "* float - para representar números reales\n",
    "* bool - para representar valores booleanos\n",
    "* complex - para representar números complejos (1+2j)\n",
    "* NoneType - Tipo especial del valor None\n",
    "\n",
    "**La función type() nos permite saber qué tipo de dato es una variable o un dato en particular**"
   ]
  },
  {
   "cell_type": "markdown",
   "metadata": {
    "id": "TvBTZ9eqouTb"
   },
   "source": [
    " **EJERCICIO:** "
   ]
  },
  {
   "cell_type": "code",
   "execution_count": 3,
   "metadata": {
    "id": "cnXq2BtSouTb"
   },
   "outputs": [
    {
     "name": "stdout",
     "output_type": "stream",
     "text": [
      "<class 'int'>\n"
     ]
    }
   ],
   "source": [
    "#Imprimir qué tipo de dato es 3\n",
    "print(type(3))\n"
   ]
  },
  {
   "cell_type": "code",
   "execution_count": 5,
   "metadata": {
    "id": "bkx5bm7vouTg"
   },
   "outputs": [
    {
     "name": "stdout",
     "output_type": "stream",
     "text": [
      "<class 'str'>\n"
     ]
    }
   ],
   "source": [
    "#Imprimir qué tipo de dato es 'hola'\n",
    "print(type(\"hola\"))\n"
   ]
  },
  {
   "cell_type": "markdown",
   "metadata": {
    "id": "HXS1e_L6ouTk"
   },
   "source": [
    "**Operaciones básicas:**\n",
    "\n",
    "| operación | operador |\n",
    "| :-------: | :------: |\n",
    "| suma      | +        |\n",
    "| resta     | -        |\n",
    "| multiplicación | *   |\n",
    "| división  | /        |\n",
    "| división entera | // |\n",
    "| módulo    | %        |\n",
    "| potencia | **    |\n",
    "\n",
    "\n",
    "\n",
    "\n",
    "\n",
    "**OJO: El resultado de la división es diferente en Python 2 y 3.**\n",
    "\n",
    "En Metodos Numericos I utilizaremos la version 3 de Python"
   ]
  },
  {
   "cell_type": "markdown",
   "metadata": {
    "id": "l6uGwF-touTl"
   },
   "source": [
    "### Ejemplos de algunas operaciones"
   ]
  },
  {
   "cell_type": "code",
   "execution_count": 6,
   "metadata": {
    "id": "QM7ndUWnouTm",
    "scrolled": true
   },
   "outputs": [
    {
     "data": {
      "text/plain": [
       "9"
      ]
     },
     "execution_count": 6,
     "metadata": {},
     "output_type": "execute_result"
    }
   ],
   "source": [
    "3**2  #Potencia 3^2"
   ]
  },
  {
   "cell_type": "code",
   "execution_count": 7,
   "metadata": {
    "id": "oqr_MUc7ouTr"
   },
   "outputs": [
    {
     "data": {
      "text/plain": [
       "3.3333333333333335"
      ]
     },
     "execution_count": 7,
     "metadata": {},
     "output_type": "execute_result"
    }
   ],
   "source": [
    "10/3  #division"
   ]
  },
  {
   "cell_type": "code",
   "execution_count": 8,
   "metadata": {
    "id": "Bo5nxR04ouTu"
   },
   "outputs": [
    {
     "data": {
      "text/plain": [
       "3"
      ]
     },
     "execution_count": 8,
     "metadata": {},
     "output_type": "execute_result"
    }
   ],
   "source": [
    "10//3 #division entera"
   ]
  },
  {
   "cell_type": "markdown",
   "metadata": {
    "id": "Hkz-aunLouTy"
   },
   "source": [
    "## Tambien existen operadores booleanos\n",
    "\n",
    "+ Nos permitiran la toma de desiciones en sentencias if, while, etc.\n",
    "\n",
    "| operación | operador |\n",
    "| :-------: | :------: |\n",
    "| igualdad      | ==        |\n",
    "| desigualdad     | !=        |\n",
    "| mayor | >   |\n",
    "| menor  | <        |\n",
    "| mayor igual | >= |\n",
    "| menor igual    | <=        |\n",
    "\n",
    "### Ejemplos"
   ]
  },
  {
   "cell_type": "code",
   "execution_count": 9,
   "metadata": {
    "id": "piT0euukouT0",
    "scrolled": true
   },
   "outputs": [
    {
     "data": {
      "text/plain": [
       "False"
      ]
     },
     "execution_count": 9,
     "metadata": {},
     "output_type": "execute_result"
    }
   ],
   "source": [
    "3 <= 2"
   ]
  },
  {
   "cell_type": "code",
   "execution_count": 10,
   "metadata": {
    "id": "6QVf6ybFouT4"
   },
   "outputs": [
    {
     "data": {
      "text/plain": [
       "True"
      ]
     },
     "execution_count": 10,
     "metadata": {},
     "output_type": "execute_result"
    }
   ],
   "source": [
    "3 >= 2"
   ]
  },
  {
   "cell_type": "markdown",
   "metadata": {
    "id": "eNzxFG-aouT_"
   },
   "source": [
    "Ejemplo de igualdad y distinto. "
   ]
  },
  {
   "cell_type": "code",
   "execution_count": 11,
   "metadata": {
    "id": "RLKQ7o2houUA"
   },
   "outputs": [],
   "source": [
    "a = 5"
   ]
  },
  {
   "cell_type": "code",
   "execution_count": 12,
   "metadata": {
    "id": "BbcgL_1douUD"
   },
   "outputs": [
    {
     "data": {
      "text/plain": [
       "True"
      ]
     },
     "execution_count": 12,
     "metadata": {},
     "output_type": "execute_result"
    }
   ],
   "source": [
    "a == 5"
   ]
  },
  {
   "cell_type": "code",
   "execution_count": 13,
   "metadata": {
    "id": "3xkpNy-GouUH"
   },
   "outputs": [
    {
     "data": {
      "text/plain": [
       "False"
      ]
     },
     "execution_count": 13,
     "metadata": {},
     "output_type": "execute_result"
    }
   ],
   "source": [
    "a != 5"
   ]
  },
  {
   "cell_type": "markdown",
   "metadata": {
    "id": "A1jSOhz2ouUL"
   },
   "source": [
    "# Definiendo variables"
   ]
  },
  {
   "cell_type": "markdown",
   "metadata": {
    "id": "pnqcHm4gouUM"
   },
   "source": [
    "    - Una variable es designar un espacio en la memoria con un dato específico. \n",
    "    - Las variables no tienen un tipo asociado en Python. \n",
    "    \n",
    "La variable variable_1 no está definida para un tipo específico, como sucede en otros lenguajes de programación. De hecho, podríamos reasignar valores a una variable simplemente declarandolo de este modo:\n",
    "\n",
    "```python\n",
    "variable_1 = \"FACET\"\n",
    "\n",
    "variable_1 = 2021\n",
    "```\n"
   ]
  },
  {
   "cell_type": "code",
   "execution_count": 14,
   "metadata": {
    "id": "Px3rKpy1ouUN"
   },
   "outputs": [
    {
     "name": "stdout",
     "output_type": "stream",
     "text": [
      "FACET <class 'str'>\n",
      "2021 <class 'int'>\n"
     ]
    }
   ],
   "source": [
    "variable_1 = \"FACET\"\n",
    "print(variable_1, type(variable_1))\n",
    "variable_1 = 2021\n",
    "print(variable_1, type(variable_1))"
   ]
  },
  {
   "cell_type": "markdown",
   "metadata": {
    "id": "2uYDAeh_X4H_"
   },
   "source": [
    "Ademas, hay palabras claves que por ende estarán prohibidas para nombrar variables prohibidas!"
   ]
  },
  {
   "cell_type": "code",
   "execution_count": 15,
   "metadata": {
    "id": "W8aXSVWfouUQ"
   },
   "outputs": [
    {
     "ename": "SyntaxError",
     "evalue": "cannot assign to True (Temp/ipykernel_11948/2849358606.py, line 1)",
     "output_type": "error",
     "traceback": [
      "\u001b[1;36m  File \u001b[1;32m\"C:\\Users\\User\\AppData\\Local\\Temp/ipykernel_11948/2849358606.py\"\u001b[1;36m, line \u001b[1;32m1\u001b[0m\n\u001b[1;33m    True = \"soy una variable\"\u001b[0m\n\u001b[1;37m    ^\u001b[0m\n\u001b[1;31mSyntaxError\u001b[0m\u001b[1;31m:\u001b[0m cannot assign to True\n"
     ]
    }
   ],
   "source": [
    "True = \"soy una variable\"\n",
    "print(True)\n",
    "\n",
    "#Este ejemplo deberá dar un error de sintaxis"
   ]
  },
  {
   "cell_type": "code",
   "execution_count": 16,
   "metadata": {
    "id": "hncj5rsfouUV",
    "scrolled": true
   },
   "outputs": [
    {
     "name": "stdout",
     "output_type": "stream",
     "text": [
      "['False', 'None', 'True', '__peg_parser__', 'and', 'as', 'assert', 'async', 'await', 'break', 'class', 'continue', 'def', 'del', 'elif', 'else', 'except', 'finally', 'for', 'from', 'global', 'if', 'import', 'in', 'is', 'lambda', 'nonlocal', 'not', 'or', 'pass', 'raise', 'return', 'try', 'while', 'with', 'yield']\n"
     ]
    }
   ],
   "source": [
    "#Palabras reservadas\n",
    "\n",
    "import keyword\n",
    "print(keyword.kwlist)"
   ]
  },
  {
   "cell_type": "markdown",
   "metadata": {
    "id": "GAQ60WiQouUY"
   },
   "source": [
    "# Operaciones con variables\n",
    "\n",
    "+ Se usan los identificadores para operar.\n",
    "+ Cada variable tiene asociado un tipo (ver con type).\n",
    "\n",
    "Ejemplo:\n",
    "```python\n",
    "a = 2\n",
    "b = 3\n",
    "c = a + b\n",
    "print(c)\n",
    "```"
   ]
  },
  {
   "cell_type": "code",
   "execution_count": null,
   "metadata": {
    "id": "uZqX5BcnY9FI"
   },
   "outputs": [],
   "source": [
    "a = 2\n",
    "b = 3\n",
    "c = a + b\n",
    "print(c)"
   ]
  },
  {
   "cell_type": "markdown",
   "metadata": {
    "id": "PUGxD1dwYsiz"
   },
   "source": [
    "**EJERCICIO**: Crear una celda y declarar una variable de nombre 'mi_variable' que tenga como valor 3. Mostrar el valor almacenado con print."
   ]
  },
  {
   "cell_type": "code",
   "execution_count": 17,
   "metadata": {},
   "outputs": [
    {
     "name": "stdout",
     "output_type": "stream",
     "text": [
      "3\n"
     ]
    }
   ],
   "source": [
    "mi_variable = 3\n",
    "print(mi_variable)"
   ]
  },
  {
   "cell_type": "markdown",
   "metadata": {
    "id": "ZCE2zKovouUc"
   },
   "source": [
    "**EJERCICIO**: Crear una celda y declarar una variable denominada 'doble', que tenga como valor el doble del valor de 'mi_variable'. Imprima el resultado"
   ]
  },
  {
   "cell_type": "code",
   "execution_count": 18,
   "metadata": {},
   "outputs": [
    {
     "name": "stdout",
     "output_type": "stream",
     "text": [
      "6\n"
     ]
    }
   ],
   "source": [
    "doble = mi_variable*2\n",
    "print(doble)"
   ]
  },
  {
   "cell_type": "markdown",
   "metadata": {
    "id": "nbuyKbWSouUg"
   },
   "source": [
    "## Strings\n",
    "+ **String** es un tipo de dato que representa una sucesión, o cadena, de caracteres. \n",
    "+ Un string se obtiene simplemente escribiendo los caracteres/el caracter entre comillas. \n",
    "```python\n",
    "mi_string = \"este es mi primer string\"\n",
    "```\n",
    "+ Python trata las comillas simples al igual que las comillas dobles.\n",
    "+ En un string el primer caracter tiene índice cero.\n",
    "\n",
    "**PREGUNTA**: \n"
   ]
  },
  {
   "cell_type": "markdown",
   "metadata": {
    "id": "OED2GYUlouUh"
   },
   "source": [
    "¿Qué resultado nos daría la siguiente operación?: \n",
    "```python\n",
    "type(1) == type('1')\n",
    "```"
   ]
  },
  {
   "cell_type": "code",
   "execution_count": 19,
   "metadata": {
    "id": "2S64hZwuouUi"
   },
   "outputs": [
    {
     "data": {
      "text/plain": [
       "False"
      ]
     },
     "execution_count": 19,
     "metadata": {},
     "output_type": "execute_result"
    }
   ],
   "source": [
    "type(1) == type('1')"
   ]
  },
  {
   "cell_type": "markdown",
   "metadata": {
    "id": "sRhfROePouUl",
    "scrolled": true
   },
   "source": [
    "¿Y qué resultado nos daría la siguiente operación?: \n",
    "```python\n",
    "\"python\" == 'Python'\n",
    "```\n"
   ]
  },
  {
   "cell_type": "code",
   "execution_count": 20,
   "metadata": {
    "id": "-dyRcUtTouUm"
   },
   "outputs": [
    {
     "data": {
      "text/plain": [
       "False"
      ]
     },
     "execution_count": 20,
     "metadata": {},
     "output_type": "execute_result"
    }
   ],
   "source": [
    "\"python\" == 'Python'"
   ]
  },
  {
   "cell_type": "markdown",
   "metadata": {
    "id": "NTP9zTAPouUp"
   },
   "source": [
    "## ¡CUIDADO!\n",
    "\n",
    "De vez en cuando suceden cosas extrañas.\n",
    "\n",
    "¿Qué pasa si se incluyen comillas dentro de otras comillas?"
   ]
  },
  {
   "cell_type": "code",
   "execution_count": null,
   "metadata": {
    "id": "k9gB-NI3ouUq"
   },
   "outputs": [],
   "source": [
    "noticiaConError = \"\"MNI\" se dicta los lunes y martes\"\n",
    "print(noticiaConError)"
   ]
  },
  {
   "cell_type": "code",
   "execution_count": null,
   "metadata": {
    "id": "I58EZKGMouUw"
   },
   "outputs": [],
   "source": [
    "\"\"\"\n",
    "Observe que las comillas interiores son diferentes a las que definen el string\n",
    "\"\"\"\n",
    "\n",
    "unaNoticia = \"La primer clase de 'MNI' fue ayer\"\n",
    "print(unaNoticia)"
   ]
  },
  {
   "cell_type": "markdown",
   "metadata": {
    "id": "zgiL81_xouU0"
   },
   "source": [
    "**Existen secuencias especiales como \\n (linea nueva) o \\t (tabulación) que tienen efectos sobre la visualización:**"
   ]
  },
  {
   "cell_type": "code",
   "execution_count": 21,
   "metadata": {
    "id": "W-ZAbNGJouU1",
    "scrolled": true
   },
   "outputs": [
    {
     "name": "stdout",
     "output_type": "stream",
     "text": [
      "Esto aparece escrito en dos lineas\n",
      "Esto aparece escrito en dos lineas\n",
      "\n"
     ]
    }
   ],
   "source": [
    "dosLineas = \"Esto aparece escrito en dos lineas\\n\"\n",
    "print(dosLineas + dosLineas) # incluir el signo '+' permite concatenar cadenas de texto, pero no es la unica forma de hacerlo."
   ]
  },
  {
   "cell_type": "markdown",
   "metadata": {
    "id": "nwGpcUp4ouU4"
   },
   "source": [
    "**Distintas formas de escribir texto combinando variables:**"
   ]
  },
  {
   "cell_type": "code",
   "execution_count": 22,
   "metadata": {
    "id": "JWMrOH_pouU5"
   },
   "outputs": [
    {
     "name": "stdout",
     "output_type": "stream",
     "text": [
      "Metodos numericos I se dicta los martes\n",
      "Metodos numericos I se dicta los martes\n",
      "Metodos numericos I se dicta los martes\n"
     ]
    }
   ],
   "source": [
    "materia = \"Metodos numericos I\" \n",
    "\n",
    "print(materia + \" se dicta los martes\")\n",
    "print(materia, \"se dicta los martes\")\n",
    "print(f'{materia} se dicta los martes')\n"
   ]
  },
  {
   "cell_type": "markdown",
   "metadata": {
    "id": "HjhKayR7ouU8"
   },
   "source": [
    "**CASTING**\n",
    "\n",
    "Puede haber ocasiones en las que desee especificar un tipo en una variable.\n",
    "\n",
    "La función **str()** convierte valores a string.\n",
    "\n",
    "La función **int()** convierte valores a entero.\n",
    "\n",
    "La función **float()** convierte valores a punto flotante.\n",
    "\n",
    "\n",
    "**EJEMPLO**: "
   ]
  },
  {
   "cell_type": "code",
   "execution_count": 23,
   "metadata": {
    "id": "l9YROuMIouU9"
   },
   "outputs": [
    {
     "name": "stdout",
     "output_type": "stream",
     "text": [
      "6\n",
      "<class 'str'>\n"
     ]
    }
   ],
   "source": [
    "#convertir la variable 'doble' en un string\n",
    "cc = str(doble)          #completar sentencia\n",
    "print(cc)\n",
    "print(type(cc))"
   ]
  },
  {
   "cell_type": "markdown",
   "metadata": {
    "id": "HzlJoe5JouVA"
   },
   "source": [
    "## Acceso a los elementos de la cadena."
   ]
  },
  {
   "cell_type": "markdown",
   "metadata": {
    "id": "kFZ34PpPouVB"
   },
   "source": [
    "Se puede acceder a los caracteres individuales de un string, del siguiente modo:\n",
    "\n",
    "    texto = \"Licenciatura en Informatica\"\n",
    "    print(texto[3])\n",
    "    \n",
    "De esta forma accedemos al cuarto caracter de nuestro string. \n",
    "\n",
    "A tener en cuenta, el indice comienza en 0 como en lenguaje C\n",
    "\n",
    "**EJEMPLO**"
   ]
  },
  {
   "cell_type": "code",
   "execution_count": 24,
   "metadata": {
    "id": "KpuOjIiwouVC"
   },
   "outputs": [
    {
     "name": "stdout",
     "output_type": "stream",
     "text": [
      "e\n"
     ]
    }
   ],
   "source": [
    "texto = \"Licenciatura en Informatica\"\n",
    "print(texto[3])"
   ]
  },
  {
   "cell_type": "markdown",
   "metadata": {
    "id": "_eUwbBOXouVF"
   },
   "source": [
    "Se puede acceder a un rango de caracteres de un string, del siguiente modo:\n",
    "\n",
    "    texto = \"Licenciatura en Informatica\"\n",
    "    print(texto[3:5])\n",
    "\n",
    "De esa forma se accede desde el elemento con indice 3 hasta el anterior del ultimo elemento. Podriamos verlo como \n",
    "**[** indice inferior, indice superior **)**\n",
    "\n",
    "    \n",
    "*Para pensar y completar*\n",
    "\n",
    "    print(texto[7:18])\n",
    "\n",
    "De esta forma accedemos desde el caracter ...... al caracter ......  "
   ]
  },
  {
   "cell_type": "code",
   "execution_count": 25,
   "metadata": {
    "id": "nK6NRJH6ouVG"
   },
   "outputs": [
    {
     "name": "stdout",
     "output_type": "stream",
     "text": [
      "ice\n"
     ]
    }
   ],
   "source": [
    "#Verificamos la respuesta\n",
    "print(texto[1:4])\n"
   ]
  },
  {
   "cell_type": "markdown",
   "metadata": {
    "id": "YK-mKjPnouVJ"
   },
   "source": [
    "**PREGUNTA**: ¿cuál es el caracter con indice 10 de la variable texto? Verifique"
   ]
  },
  {
   "cell_type": "code",
   "execution_count": 26,
   "metadata": {
    "id": "JMW6roo9ouVK"
   },
   "outputs": [
    {
     "data": {
      "text/plain": [
       "'r'"
      ]
     },
     "execution_count": 26,
     "metadata": {},
     "output_type": "execute_result"
    }
   ],
   "source": [
    "#Verificamos la respuesta\n",
    "texto[10]\n"
   ]
  },
  {
   "cell_type": "markdown",
   "metadata": {
    "id": "Dc2QySEHouVN"
   },
   "source": [
    "¿Qué ocurre si ejecutamos la siguiente sentecia?"
   ]
  },
  {
   "cell_type": "code",
   "execution_count": 28,
   "metadata": {
    "id": "Gpe7ZbxWouVO"
   },
   "outputs": [
    {
     "ename": "TypeError",
     "evalue": "'str' object does not support item assignment",
     "output_type": "error",
     "traceback": [
      "\u001b[1;31m---------------------------------------------------------------------------\u001b[0m",
      "\u001b[1;31mTypeError\u001b[0m                                 Traceback (most recent call last)",
      "\u001b[1;32m~\\AppData\\Local\\Temp/ipykernel_11948/265014961.py\u001b[0m in \u001b[0;36m<module>\u001b[1;34m\u001b[0m\n\u001b[1;32m----> 1\u001b[1;33m \u001b[0mtexto\u001b[0m\u001b[1;33m[\u001b[0m\u001b[1;36m1\u001b[0m\u001b[1;33m]\u001b[0m \u001b[1;33m=\u001b[0m \u001b[1;34m'y'\u001b[0m\u001b[1;33m\u001b[0m\u001b[1;33m\u001b[0m\u001b[0m\n\u001b[0m\u001b[0;32m      2\u001b[0m \u001b[1;33m\u001b[0m\u001b[0m\n\u001b[0;32m      3\u001b[0m \u001b[1;31m#Investigue porque se produce el error\u001b[0m\u001b[1;33m\u001b[0m\u001b[1;33m\u001b[0m\u001b[0m\n",
      "\u001b[1;31mTypeError\u001b[0m: 'str' object does not support item assignment"
     ]
    }
   ],
   "source": [
    "texto[1] = 'y'\n",
    "\n",
    "#Investigue porque se produce el error"
   ]
  },
  {
   "cell_type": "code",
   "execution_count": 29,
   "metadata": {},
   "outputs": [
    {
     "name": "stdout",
     "output_type": "stream",
     "text": [
      "<class 'str'>\n"
     ]
    }
   ],
   "source": [
    "print(type('y')) \n",
    "\n",
    "# no se puede introducir uns str dentro de otro str??"
   ]
  },
  {
   "cell_type": "markdown",
   "metadata": {
    "id": "sSoO6OWeouVU"
   },
   "source": [
    "# Concatenación de cadenas\n",
    "¿Qué pasa si ejecutas la siguiente celda?\n",
    "\n",
    "```python\n",
    "texto1 = \"MNI\"\n",
    "print(texto + texto1)\n",
    "\n",
    "[out] Licenciatura en Informatica MNI\n",
    "```\n",
    "\n"
   ]
  },
  {
   "cell_type": "code",
   "execution_count": 30,
   "metadata": {
    "id": "9PKshuHoouVR"
   },
   "outputs": [
    {
     "name": "stdout",
     "output_type": "stream",
     "text": [
      "Lycenciatura en Informatica\n"
     ]
    }
   ],
   "source": [
    "#Podremos resolver el problema de reemplar el segundo elemento de texto de la siguiente manera:\n",
    "\n",
    "texto2 = texto[:1] + \"y\" + texto[2:]\n",
    "print(texto2)"
   ]
  },
  {
   "cell_type": "code",
   "execution_count": 31,
   "metadata": {
    "id": "gYxIH6F7ouVV"
   },
   "outputs": [
    {
     "name": "stdout",
     "output_type": "stream",
     "text": [
      "Lisenciatura en Informatica\n"
     ]
    }
   ],
   "source": [
    "texto2 = texto[:2] + \"s\" + texto[3:]\n",
    "print(texto2)"
   ]
  },
  {
   "cell_type": "markdown",
   "metadata": {
    "id": "qQvAVo1vouVY"
   },
   "source": [
    "# Funciones útiles (métodos para strings)\n",
    "- ejemplos:\n",
    "    - **lower()**: convierte MAYUSCULAS en minusculas.\n",
    "    - **upper()**: convierte minusculas en MAYUSCULAS.\n",
    "    - **len()**: nos permite conocer la longitud (cantidad de caracteres de un string).\n",
    "    - **split('chars')**: divide el string por el caracter dado, obteniendose una lista de strings.\n",
    "    - **count('chars')**: cuenta la ocurrencia del caracter dado en un string.\n",
    "    - **replace('orig', 'reempl')**:reemplaza los caracteres de valor 'origin' por 'reempl'\n",
    "- más sobre cadenas [en la documentación de la librería estándar](http://docs.python.org/3/library/string.html)"
   ]
  },
  {
   "cell_type": "markdown",
   "metadata": {
    "id": "o7dZu2OTouVY"
   },
   "source": [
    "### Se pueden concatenar operaciones"
   ]
  },
  {
   "cell_type": "code",
   "execution_count": 32,
   "metadata": {
    "id": "UBrPj2xtouVZ"
   },
   "outputs": [
    {
     "name": "stdout",
     "output_type": "stream",
     "text": [
      "Conteo de 'e':  4\n"
     ]
    }
   ],
   "source": [
    "unTexto = 'Bienvenidos a Metodos Numericos I'\n",
    "conteo = unTexto.lower().count('e')\n",
    "print(\"Conteo de 'e': \", conteo)"
   ]
  },
  {
   "cell_type": "markdown",
   "metadata": {
    "id": "VYWo9WNCouVc"
   },
   "source": [
    "**EJERCICIO**: dada la siguiente frase, calcular el porcentaje de ocurrencia de la letra *r*.\n",
    "```python\n",
    "frase = El hardware es lo que hace a una máquina rápida; el software es lo que hace que una máquina rápida se vuelva lenta. Craig Bruce en 1990.\n",
    "```"
   ]
  },
  {
   "cell_type": "code",
   "execution_count": 35,
   "metadata": {
    "id": "6EcnzCntouVd"
   },
   "outputs": [
    {
     "name": "stdout",
     "output_type": "stream",
     "text": [
      "Conteo de 'r' =  7\n",
      "Total de caracteres =  136\n",
      "Porcentaje de ocurrencias =  5.147058823529412\n"
     ]
    }
   ],
   "source": [
    "frase = \"El hardware es lo que hace a una máquina rápida; el software es lo que hace que una máquina rápida se vuelva lenta. Craig Bruce en 1990.\"\n",
    "conteo = frase.lower().count('r')\n",
    "total = len(frase)\n",
    "porcentaje = conteo*100/total\n",
    "print(\"Conteo de 'r' = \", conteo)\n",
    "print(\"Total de caracteres = \", total)\n",
    "print(\"Porcentaje de ocurrencias = \", porcentaje)"
   ]
  },
  {
   "cell_type": "code",
   "execution_count": 36,
   "metadata": {},
   "outputs": [
    {
     "data": {
      "text/plain": [
       "0.051470588235294115"
      ]
     },
     "execution_count": 36,
     "metadata": {},
     "output_type": "execute_result"
    }
   ],
   "source": [
    "7/136"
   ]
  },
  {
   "cell_type": "markdown",
   "metadata": {
    "id": "_dTF1tgLouVf"
   },
   "source": [
    "# Estructuras de datos\n",
    "\n",
    "Las variables que vimos hasta ahora son sencillas y contienen un único **dato**.\n",
    "Python permite usar estructuras de datos más complejas que permiten almacenar y organizar colecciones de datos.\n",
    "Algunas de estas estructuras de datos son:\n",
    "* listas\n",
    "* tuplas\n",
    "* diccionarios"
   ]
  },
  {
   "cell_type": "markdown",
   "metadata": {
    "id": "BxdgHlYaouVg"
   },
   "source": [
    "## Listas\n",
    " + Son secuencias de elementos, que pueden ser de cualquier tipo: int, float, string e inclusive otras listas.\n",
    " + Mutables y ordenadas.\n",
    " + A cada elemento de la lista le corresponde una posicion o indice, al cual se puede acceder como con las cadenas.\n",
    " + Se escribe entre corchetes los elementos y separados por comas.\n"
   ]
  },
  {
   "cell_type": "code",
   "execution_count": 37,
   "metadata": {
    "id": "fcvL7WeQouVh"
   },
   "outputs": [
    {
     "name": "stdout",
     "output_type": "stream",
     "text": [
      "[2, 4, 5, 22]\n",
      "['Mamiferos', 'aves']\n",
      "[100, 'hardware', [2, 4, 5, 22]]\n"
     ]
    }
   ],
   "source": [
    "lista1 = [2,4,5,22]\n",
    "print(lista1)\n",
    "lista2 = ['Mamiferos','aves']\n",
    "print(lista2)\n",
    "lista3 = [100, 'hardware', lista1]\n",
    "print(lista3)"
   ]
  },
  {
   "cell_type": "markdown",
   "metadata": {
    "id": "buQjvfyFouVl"
   },
   "source": [
    "**EJEMPLO**: ¿Cómo imprimirias el primer elemento de la lista 1?"
   ]
  },
  {
   "cell_type": "code",
   "execution_count": 38,
   "metadata": {
    "id": "FrfdGZaDouVl"
   },
   "outputs": [
    {
     "name": "stdout",
     "output_type": "stream",
     "text": [
      "2\n"
     ]
    }
   ],
   "source": [
    "print(lista1[0])"
   ]
  },
  {
   "cell_type": "markdown",
   "metadata": {
    "id": "S4bJGbqCouVo"
   },
   "source": [
    "**EJEMPLO**: ¿Cómo imprimirias el primer elemento del tercer elemento de la lista 3?"
   ]
  },
  {
   "cell_type": "code",
   "execution_count": 39,
   "metadata": {
    "id": "lQ1jCgdLouVp"
   },
   "outputs": [
    {
     "name": "stdout",
     "output_type": "stream",
     "text": [
      "2\n"
     ]
    }
   ],
   "source": [
    "print(lista3[2][0])"
   ]
  },
  {
   "cell_type": "markdown",
   "metadata": {
    "id": "jE9w84ceouVv"
   },
   "source": [
    "**Se pueden alterar las listas: agregando o quitando elementos:**\n"
   ]
  },
  {
   "cell_type": "code",
   "execution_count": 40,
   "metadata": {
    "id": "IK9lRehVouVv"
   },
   "outputs": [
    {
     "name": "stdout",
     "output_type": "stream",
     "text": [
      "['Mamiferos', 'aves', 'Anfibios']\n"
     ]
    }
   ],
   "source": [
    "lista2.append('Anfibios')\n",
    "print(lista2)"
   ]
  },
  {
   "cell_type": "code",
   "execution_count": 41,
   "metadata": {
    "id": "q9xsSI20ouVz"
   },
   "outputs": [
    {
     "name": "stdout",
     "output_type": "stream",
     "text": [
      "['Reptiles', 'Mamiferos', 'aves', 'Anfibios']\n"
     ]
    }
   ],
   "source": [
    "lista2.insert(0,'Reptiles')\n",
    "print(lista2)"
   ]
  },
  {
   "cell_type": "code",
   "execution_count": 42,
   "metadata": {
    "id": "bnWAgwBFouV2"
   },
   "outputs": [
    {
     "name": "stdout",
     "output_type": "stream",
     "text": [
      "['Reptiles', 'Mamiferos', 'Anfibios']\n"
     ]
    }
   ],
   "source": [
    "del lista2[2]  #Eliminamos el indice 2, que contiene \"aves\"\n",
    "print(lista2)"
   ]
  },
  {
   "cell_type": "markdown",
   "metadata": {
    "id": "7IAiCcOMouV5"
   },
   "source": [
    "**Funciones de Listas**\n",
    " - list.append() para agregar elementos.\n",
    " - list.insert(index,obj) para insertar un elemento el indice indicado.\n",
    " - list.sort() ordenar la lista.\n",
    " - list.pop() elimina el elemento en el índice dado de la lista y devuelve el elemento eliminado.\n",
    " - len(list) longitud de la lista/cantidad de elementos.\n",
    " \n",
    " \n",
    " \n",
    " "
   ]
  },
  {
   "cell_type": "code",
   "execution_count": 43,
   "metadata": {
    "id": "kfjYavNFouV5"
   },
   "outputs": [
    {
     "name": "stdout",
     "output_type": "stream",
     "text": [
      "Anfibios\n",
      "['Reptiles', 'Mamiferos']\n"
     ]
    }
   ],
   "source": [
    "#El argumento pasado al método pop() es opcional. Si no se pasa, el índice predeterminado -1 se pasa como argumento (índice del último elemento).\n",
    "borrado = lista2.pop()\n",
    "print(borrado)\n",
    "print(lista2)"
   ]
  },
  {
   "cell_type": "markdown",
   "metadata": {
    "id": "LoRbwKzSouV8"
   },
   "source": [
    "Se puede operar con las listas. Ejecute los siguientes ejemplos y analice los resultados obtenidos para cada caso.\n"
   ]
  },
  {
   "cell_type": "code",
   "execution_count": 44,
   "metadata": {
    "id": "HZGVqjWKouV8"
   },
   "outputs": [
    {
     "data": {
      "text/plain": [
       "[2, 4, 5, 22, 'Reptiles', 'Mamiferos']"
      ]
     },
     "execution_count": 44,
     "metadata": {},
     "output_type": "execute_result"
    }
   ],
   "source": [
    "lista1 + lista2"
   ]
  },
  {
   "cell_type": "code",
   "execution_count": 45,
   "metadata": {
    "id": "XgeePlGbouV_"
   },
   "outputs": [
    {
     "data": {
      "text/plain": [
       "['Reptiles', 'Mamiferos', 'Reptiles', 'Mamiferos']"
      ]
     },
     "execution_count": 45,
     "metadata": {},
     "output_type": "execute_result"
    }
   ],
   "source": [
    "lista2*2"
   ]
  },
  {
   "cell_type": "code",
   "execution_count": 46,
   "metadata": {
    "id": "MZdZRbLSouWC"
   },
   "outputs": [
    {
     "data": {
      "text/plain": [
       "2"
      ]
     },
     "execution_count": 46,
     "metadata": {},
     "output_type": "execute_result"
    }
   ],
   "source": [
    "min(lista1)"
   ]
  },
  {
   "cell_type": "code",
   "execution_count": 47,
   "metadata": {
    "id": "vcVKTNccouWE"
   },
   "outputs": [
    {
     "data": {
      "text/plain": [
       "22"
      ]
     },
     "execution_count": 47,
     "metadata": {},
     "output_type": "execute_result"
    }
   ],
   "source": [
    "max(lista1)"
   ]
  },
  {
   "cell_type": "markdown",
   "metadata": {
    "id": "6Map840PouWG"
   },
   "source": [
    "**EJERCICIO**: Crea una lista vacía denominada 'PU'. Posteriormente agregue los elementos: 'P06' y 'P10'. Imprima el contenido de la lista PU"
   ]
  },
  {
   "cell_type": "code",
   "execution_count": 48,
   "metadata": {},
   "outputs": [
    {
     "name": "stdout",
     "output_type": "stream",
     "text": [
      "['P06', 'P10']\n"
     ]
    }
   ],
   "source": [
    "pu = []\n",
    "pu.append('P06')\n",
    "pu.append('P10')\n",
    "print(pu)"
   ]
  },
  {
   "cell_type": "markdown",
   "metadata": {
    "id": "hm9LaRcZouWG"
   },
   "source": [
    "# Tuplas\n",
    "\n",
    "- No se pueden agregar ni quitar elementos de la tupla\n",
    "- Es como una secuencia de elementos, pero inmutable\n",
    "- No se pueden asignar elementos a una tupla\n",
    "- Tienen orden"
   ]
  },
  {
   "cell_type": "code",
   "execution_count": 51,
   "metadata": {},
   "outputs": [],
   "source": [
    "tupla = (1,2,32)"
   ]
  },
  {
   "cell_type": "code",
   "execution_count": 52,
   "metadata": {},
   "outputs": [
    {
     "ename": "TypeError",
     "evalue": "'tuple' object doesn't support item deletion",
     "output_type": "error",
     "traceback": [
      "\u001b[1;31m---------------------------------------------------------------------------\u001b[0m",
      "\u001b[1;31mTypeError\u001b[0m                                 Traceback (most recent call last)",
      "\u001b[1;32m~\\AppData\\Local\\Temp/ipykernel_11948/4146916899.py\u001b[0m in \u001b[0;36m<module>\u001b[1;34m\u001b[0m\n\u001b[1;32m----> 1\u001b[1;33m \u001b[1;32mdel\u001b[0m \u001b[0mtupla\u001b[0m\u001b[1;33m[\u001b[0m\u001b[1;36m0\u001b[0m\u001b[1;33m]\u001b[0m\u001b[1;33m\u001b[0m\u001b[1;33m\u001b[0m\u001b[0m\n\u001b[0m",
      "\u001b[1;31mTypeError\u001b[0m: 'tuple' object doesn't support item deletion"
     ]
    }
   ],
   "source": [
    "del tupla[0]"
   ]
  },
  {
   "cell_type": "code",
   "execution_count": 53,
   "metadata": {},
   "outputs": [
    {
     "data": {
      "text/plain": [
       "3"
      ]
     },
     "execution_count": 53,
     "metadata": {},
     "output_type": "execute_result"
    }
   ],
   "source": [
    "len(tupla)"
   ]
  },
  {
   "cell_type": "markdown",
   "metadata": {
    "id": "0NwYfYV7ouWJ"
   },
   "source": [
    "## Diccionarios\n",
    "* Los diccionarios son agrupaciones de datos del tipos Clave -> Valor. No tienen orden. Así como las listas se declaran con corchetes, los diccionarios se declaran con llaves, siguiendo la sintaxis mi_diccionario = {clave_1: \"valor\",clave_2: \"valor\"}\n",
    "```python\n",
    "mamiferos = {\"orangutan\" : 'placentario',\"canguro\" : 'marsupial'}\n",
    "```\n",
    "* Se puede acceder a los valores para cada clave haciendo, por ejemplo:\n",
    "```\n",
    "mamiferos['orangutan']\n",
    "```\n",
    "* ¿Qué cosas quiero hacer un diccionario?\n",
    " * Guardar (o actualizar) un dato con clave\n",
    " * Recuperar un dato por su clave\n",
    " * Saber si una valor dado es una clave\n",
    " * Recuperar todas las claves\n",
    " * Eliminar valores.\n",
    " \n",
    "### Declarar diccionarios"
   ]
  },
  {
   "cell_type": "markdown",
   "metadata": {
    "id": "H-z3V01iouWJ"
   },
   "source": [
    "Con la función **dict()** creamos un nuevo diccionario vacio. Y agregamos valores para distintas claves\n",
    "```python\n",
    "personas = dict()\n",
    "personas['Profesora'] = 'Dra. Graciela Molina'\n",
    "persona['Auxiliar'] = 'Lic. Leonardo Albarracin'\n",
    "```"
   ]
  },
  {
   "cell_type": "markdown",
   "metadata": {
    "collapsed": true,
    "id": "r2IZAzqYouWL"
   },
   "source": [
    "O podemos simplemente declarar el diccionario como una variable, que entre llaves tiene las claves y los valores separados por comas\n",
    "```python\n",
    "Materias = {'LIA':'Algoritmos y Estructuras de Datos I', 'LIB':'Taller I', 'P10':'Metodos Numericos I', 'LIC':'Arquitectura'}\n",
    "\n",
    "```"
   ]
  },
  {
   "cell_type": "markdown",
   "metadata": {
    "id": "6aZ4vrCvouWN"
   },
   "source": [
    "### Acceso a los elementos del diccionario\n",
    "* Las funciones **keys()** y **values()** permiten recuperar listas con las claves y los valores. \n",
    "* No tienen ningún orden."
   ]
  },
  {
   "cell_type": "code",
   "execution_count": 54,
   "metadata": {
    "id": "_kQZ5F2souWN"
   },
   "outputs": [
    {
     "name": "stdout",
     "output_type": "stream",
     "text": [
      "{'LIA': 'Algoritmos y Estructuras de Datos I', 'LIB': 'Taller I', 'P10': 'Metodos Numericos I', 'LIC': 'Arquitectura'}\n"
     ]
    }
   ],
   "source": [
    "Materias = {'LIA':'Algoritmos y Estructuras de Datos I', 'LIB':'Taller I', 'P10':'Metodos Numericos I', 'LIC':'Arquitectura'}\n",
    "\n",
    "print(Materias)"
   ]
  },
  {
   "cell_type": "code",
   "execution_count": 55,
   "metadata": {
    "id": "xuZrEbeYouWP"
   },
   "outputs": [
    {
     "data": {
      "text/plain": [
       "dict_keys(['LIA', 'LIB', 'P10', 'LIC'])"
      ]
     },
     "execution_count": 55,
     "metadata": {},
     "output_type": "execute_result"
    }
   ],
   "source": [
    "Materias.keys()"
   ]
  },
  {
   "cell_type": "code",
   "execution_count": 56,
   "metadata": {
    "id": "_wfFwgZgouWT"
   },
   "outputs": [
    {
     "data": {
      "text/plain": [
       "dict_values(['Algoritmos y Estructuras de Datos I', 'Taller I', 'Metodos Numericos I', 'Arquitectura'])"
      ]
     },
     "execution_count": 56,
     "metadata": {},
     "output_type": "execute_result"
    }
   ],
   "source": [
    "Materias.values()"
   ]
  },
  {
   "cell_type": "code",
   "execution_count": 57,
   "metadata": {
    "id": "qJMcruNNouWV"
   },
   "outputs": [
    {
     "data": {
      "text/plain": [
       "'Algoritmos y Estructuras de Datos I'"
      ]
     },
     "execution_count": 57,
     "metadata": {},
     "output_type": "execute_result"
    }
   ],
   "source": [
    "Materias[\"LIA\"]"
   ]
  },
  {
   "cell_type": "markdown",
   "metadata": {
    "id": "-dgnVLosouWY"
   },
   "source": [
    "# Estructuras de control\n",
    "Python, al igual que todos los lenguages de programación, incluye sentencias permiten controlar el flujo del programa. Esto permite tomar desiciones, repetir una tarea y recorrer estructuras de datos. \n",
    "\n",
    "\n",
    "### Estructuración por indentación\n",
    "* La indentación es el espacio que existe entre cada línea de código y el margen.\n",
    "* A diferencia de muchos otros lenguages de programación, la indentación **en python no es sólo por estética sino que define la estructura del código**.\n",
    "\n",
    "### Construcción Loop FOR\n",
    "\n",
    "- los acciones o bloques se identifican por la indentación\n",
    "\n",
    "``` python\n",
    "#EJEMPLO CORRECTO\n",
    "for x in elemento iterable:\n",
    "    orden 1\n",
    "    orden 2\n",
    "\n",
    "    \n",
    "#EJEMPLO INCORRECTO\n",
    "for x in elemento iterable:\n",
    "orden 1\n",
    "orden 2\n",
    "```\n",
    "En el ejemplo incorrecto, no se respeta la identacion, por lo cual no se reconoce las acciones correspondientes al lazo for\n",
    "\n",
    "**Observación:** En la linea en donde se declara el lazo iterativo, la misma termina con 2 puntos (:). Esto identifica que el codigo que se escriba a continuacion, pertenece a esta estructura. La misma regla sirve para las estruturas if y while, y tambien es utilizada al crear funciones definidas por el usuario.\n",
    "\n",
    "\n",
    "**Ejemplo**"
   ]
  },
  {
   "cell_type": "code",
   "execution_count": 58,
   "metadata": {
    "id": "ccLJr0oaouWY"
   },
   "outputs": [
    {
     "name": "stdout",
     "output_type": "stream",
     "text": [
      "['Arqu', 'Algo', 'Tall']\n"
     ]
    }
   ],
   "source": [
    "#Escribir los primeros 4 caracteres de cada elemento de la lista dada\n",
    "\n",
    "lista_materia = ['Arquitectura I','Algoritmos I','Taller de Lenguaje I']\n",
    "\n",
    "iniciales = []\n",
    "for i in lista_materia:\n",
    "    ini = i[0:4]\n",
    "    iniciales.append(ini)\n",
    "    \n",
    "print(iniciales)"
   ]
  },
  {
   "cell_type": "markdown",
   "metadata": {
    "id": "I4ewlBX6ouWa"
   },
   "source": [
    "### Todo lo iterable se puede iterar\n",
    "\n",
    "- iterables son objetos que contienen el método \\_\\_iter\\_\\_():\n",
    "    - números que provienen de range, arange, etc\n",
    "    - cadenas de caracteres\n",
    "    - lineas de un archivo de texto\n",
    "    - listas\n",
    "    - diccionarios\n",
    "    - arreglos\n",
    "    - ...\n"
   ]
  },
  {
   "cell_type": "markdown",
   "metadata": {
    "id": "r7s6akynouWb"
   },
   "source": [
    "**Ejercicio:** \n",
    "\n",
    "Siga a lapiz y a papel cada uno de las ejecuciones del lazo for, concluya la salida, y luego verifique su resultado (inserte nuevas celdas).\n",
    "\n",
    "- \n",
    "```python\n",
    "print(\"Comienzo\")\n",
    "for i in [0, 1, 2]:\n",
    "    print(\"Hola. Ahora i vale\", i)\n",
    "print(\"Fin\")\n",
    "```\n",
    "\n",
    "- \n",
    "```python\n",
    "print(\"Comienzo\")\n",
    "for i in [1, 1, 1, 1]:\n",
    "    print(\"Hola. Ahora i vale\", i)\n",
    "print(\"Final\")\n",
    "```\n",
    "\n",
    "- \n",
    "```python\n",
    "print(\"Comienzo\")\n",
    "for i in []:\n",
    "    print(\"Hola. Ahora i vale\", i)\n",
    "print(\"Final\")\n",
    "```\n",
    "\n",
    "- \n",
    "```python\n",
    "print(\"Comienzo\")\n",
    "for i in [\"Alba\", \"Benito\", 27]:\n",
    "    print(\"Hola. Ahora i vale\", i)\n",
    "print(\"Final\")\n",
    "```\n",
    "\n",
    "**Verificacion**"
   ]
  },
  {
   "cell_type": "code",
   "execution_count": 59,
   "metadata": {
    "id": "qNhdav9iT2nA"
   },
   "outputs": [
    {
     "name": "stdout",
     "output_type": "stream",
     "text": [
      "Comienzo\n",
      "Hola. Ahora i vale 0\n",
      "Hola. Ahora i vale 1\n",
      "Hola. Ahora i vale 2\n",
      "Fin\n"
     ]
    }
   ],
   "source": [
    "print(\"Comienzo\")\n",
    "for i in [0, 1, 2]:\n",
    "  print(\"Hola. Ahora i vale\", i)\n",
    "print(\"Fin\")\n"
   ]
  },
  {
   "cell_type": "code",
   "execution_count": 60,
   "metadata": {},
   "outputs": [
    {
     "name": "stdout",
     "output_type": "stream",
     "text": [
      "Comienzo\n",
      "Hola. Ahora i vale 1\n",
      "Hola. Ahora i vale 1\n",
      "Hola. Ahora i vale 1\n",
      "Hola. Ahora i vale 1\n",
      "Final\n"
     ]
    }
   ],
   "source": [
    "print(\"Comienzo\")\n",
    "for i in [1, 1, 1, 1]:\n",
    "  print(\"Hola. Ahora i vale\", i)\n",
    "print(\"Final\")"
   ]
  },
  {
   "cell_type": "code",
   "execution_count": 61,
   "metadata": {},
   "outputs": [
    {
     "name": "stdout",
     "output_type": "stream",
     "text": [
      "Comienzo\n",
      "Final\n"
     ]
    }
   ],
   "source": [
    "print(\"Comienzo\")\n",
    "for i in []:\n",
    "  print(\"Hola. Ahora i vale\", i)\n",
    "print(\"Final\")"
   ]
  },
  {
   "cell_type": "code",
   "execution_count": 62,
   "metadata": {},
   "outputs": [
    {
     "name": "stdout",
     "output_type": "stream",
     "text": [
      "Comienzo\n",
      "Hola. Ahora i vale Alba\n",
      "Hola. Ahora i vale Benito\n",
      "Hola. Ahora i vale 27\n",
      "Final\n"
     ]
    }
   ],
   "source": [
    "print(\"Comienzo\")\n",
    "for i in [\"Alba\", \"Benito\", 27]:\n",
    "  print(\"Hola. Ahora i vale\", i)\n",
    "print(\"Final\")"
   ]
  },
  {
   "cell_type": "markdown",
   "metadata": {
    "id": "kxpdYwR8ouWk"
   },
   "source": [
    "### Tipo range\n",
    "El tipo range es una lista inmutable de números enteros en sucesión aritmética.\n",
    "\n",
    "Nota: En Python 2, range() se consideraba una función, pero en Python 3 es un tipo de datos , aunque se utiliza como si fuera una función.\n",
    "\n",
    "El tipo range() con un único argumento se escribe range(n) y crea una lista inmutable de n números enteros consecutivos que empieza en 0 y acaba en **n - 1**. \n",
    "\n",
    "**Investigue sobre los otros argumentos de range**\n",
    "\n",
    "Para ver los valores del range(), es necesario convertirlo a lista mediante la función list(), o escribir elemento por elemento.\n",
    "\n",
    "\n",
    "``` python\n",
    "a = range (21)\n",
    "print(a)\n",
    "\n",
    "print(list(a))\n",
    "\n",
    "for i in range(a):\n",
    "    print(i)\n",
    "```"
   ]
  },
  {
   "cell_type": "code",
   "execution_count": 63,
   "metadata": {
    "id": "SHzVwWoHouWk"
   },
   "outputs": [
    {
     "name": "stdout",
     "output_type": "stream",
     "text": [
      "range(0, 21)\n",
      "[0, 1, 2, 3, 4, 5, 6, 7, 8, 9, 10, 11, 12, 13, 14, 15, 16, 17, 18, 19, 20]\n",
      "0\n",
      "1\n",
      "4\n",
      "9\n",
      "16\n",
      "25\n",
      "36\n",
      "49\n",
      "64\n",
      "81\n",
      "100\n",
      "121\n",
      "144\n",
      "169\n",
      "196\n",
      "225\n",
      "256\n",
      "289\n",
      "324\n",
      "361\n"
     ]
    }
   ],
   "source": [
    "a = range (21)\n",
    "print(a)\n",
    "\n",
    "print(list(a))\n",
    "\n",
    "#Operaciones sobre el indice \n",
    "for i in range(20):\n",
    "    print(i**2)\n"
   ]
  },
  {
   "cell_type": "markdown",
   "metadata": {
    "id": "rJJ8cLBiouWn"
   },
   "source": [
    "## Toma de decisiones: if...else...\n",
    "\n",
    "La estructura general es:\n",
    "```python\n",
    "if condicion:\n",
    "    # Codigo si la condicion es verdadera\n",
    "else :\n",
    "    # Codigo si la condicion es falsa\n",
    "```\n",
    "\n",
    "**los bloques se identifican por la indentación**"
   ]
  },
  {
   "cell_type": "markdown",
   "metadata": {
    "id": "V_6KYYwpouWo"
   },
   "source": [
    "### If evalúa condiciones lógicas\n",
    "\n",
    "+ puede ser una expresión: \n",
    "    \n",
    "    ``` python \n",
    "    if valor > umbral:\n",
    "        Acciones\n",
    "    ```\n",
    "    \n",
    "+ pueden ser expresiones anidadas: \n",
    "    \n",
    "    ``` python \n",
    "    if (valor > piso) and (valor < techo):\n",
    "        Acciones\n",
    "\n",
    "    ```\n",
    "    \n",
    "    **Ejemplo**\n",
    "    \n"
   ]
  },
  {
   "cell_type": "code",
   "execution_count": null,
   "metadata": {
    "id": "-8CglD9youWo"
   },
   "outputs": [],
   "source": [
    "# A partir de una lista de carreras de la FaCET, indicar las carreras de Ingenieria\n",
    "\n",
    "carreras = ['Lic en Informatica', 'Ing en Informatica', 'Prog Universitario', 'Ing Quimica']\n",
    "\n",
    "for i in carreras:\n",
    "    if 'Ing' in i :\n",
    "        print(i + \" es una ingenieria\")\n",
    "    else:\n",
    "        print('Ups! ' + i + ' no es una Ingenieria')\n"
   ]
  },
  {
   "cell_type": "markdown",
   "metadata": {
    "id": "j6aEo2OgouWq"
   },
   "source": [
    "Modificar el codigo anterior para que muestre las carreras que no son de Ingenieria"
   ]
  },
  {
   "cell_type": "code",
   "execution_count": 69,
   "metadata": {
    "id": "AXUQlkemouWq"
   },
   "outputs": [
    {
     "ename": "IndentationError",
     "evalue": "expected an indented block (Temp/ipykernel_11948/3724724890.py, line 6)",
     "output_type": "error",
     "traceback": [
      "\u001b[1;36m  File \u001b[1;32m\"C:\\Users\\User\\AppData\\Local\\Temp/ipykernel_11948/3724724890.py\"\u001b[1;36m, line \u001b[1;32m6\u001b[0m\n\u001b[1;33m    else:\u001b[0m\n\u001b[1;37m    ^\u001b[0m\n\u001b[1;31mIndentationError\u001b[0m\u001b[1;31m:\u001b[0m expected an indented block\n"
     ]
    }
   ],
   "source": [
    "carreras = ['Lic en Informatica', 'Ing en Informatica', 'Prog Universitario', 'Ing Quimica']\n",
    "\n",
    "for i in carreras:\n",
    "    if 'Ing' in i :\n",
    "        print('')\n",
    "    else:\n",
    "        print(i)"
   ]
  },
  {
   "cell_type": "markdown",
   "metadata": {
    "id": "_z8fKb-vouWs"
   },
   "source": [
    "### Anidando condiciones (elif)\n",
    "\n",
    "La estructura general es:\n",
    "\n",
    "```python\n",
    "if condicion_A:\n",
    "    #Codigo si la condicion_A es verdadera\n",
    "elif condicion_B:\n",
    "    #Codigo si la condicion_B es verdadera\n",
    "elif condicion_C:\n",
    "    #Codigo si no cumple ninguna de las anteriores condiciones\n",
    "\n",
    "```"
   ]
  },
  {
   "cell_type": "code",
   "execution_count": null,
   "metadata": {
    "id": "adYLdZWgouWs"
   },
   "outputs": [],
   "source": [
    "numA = int(input(\"ingrese numero A: \"))\n",
    "numB = int(input(\"ingrese numero b: \"))\n",
    "\n",
    "if numA > numB:\n",
    "    print(\"numero A es mayor\")\n",
    "elif numA < numB:\n",
    "    print(\"numero B es mayor\")\n",
    "else:\n",
    "    print(\"Ambos numeros son iguales\")"
   ]
  },
  {
   "cell_type": "markdown",
   "metadata": {
    "id": "Qp8z6NIpLv3k"
   },
   "source": [
    "En el ejemplo anterior, investigue que realiza la funcion input."
   ]
  },
  {
   "cell_type": "markdown",
   "metadata": {
    "id": "S0Sd09NLouWu"
   },
   "source": [
    "## Construccion del Mientras\n",
    "\n",
    "\n",
    "``` python\n",
    "while condicion:\n",
    "    acciones\n",
    "```\n",
    "\n"
   ]
  },
  {
   "cell_type": "code",
   "execution_count": null,
   "metadata": {
    "id": "3NL0lvY0ouWu"
   },
   "outputs": [],
   "source": [
    "i = 1\n",
    "while i <= 50:\n",
    "    print(i)\n",
    "    i = 2 * i\n",
    "    \n",
    "print(\"Programa terminado\")"
   ]
  },
  {
   "cell_type": "markdown",
   "metadata": {
    "id": "HYf60M5houWv"
   },
   "source": [
    "**Ejercicio:** Escriba un programa que pida la cantidad de números positivos que se tienen que escribir y a continuación ingrese números hasta que se haya escrito la cantidad de números positivos indicada. \n",
    "\n"
   ]
  },
  {
   "cell_type": "code",
   "execution_count": 88,
   "metadata": {
    "id": "W9el50xXouWw"
   },
   "outputs": [
    {
     "name": "stdout",
     "output_type": "stream",
     "text": [
      "Ingrese la cantidad: 2\n",
      "Ingrese un numero1\n",
      "1\n",
      "Ingrese un numero2\n",
      "2\n",
      "Arreglo:  [1, 2]\n"
     ]
    }
   ],
   "source": [
    "cant = int(input(\"Ingrese la cantidad: \"))\n",
    "\n",
    "i = 0\n",
    "numero = []\n",
    "\n",
    "while i < cant:\n",
    "    numero.append(int(input(\"Ingrese un numero\")))\n",
    "    i = i + 1\n",
    "    print(i)\n",
    "    \n",
    "print(\"Arreglo: \", numero)\n",
    "    "
   ]
  },
  {
   "cell_type": "markdown",
   "metadata": {
    "id": "APYYZKg0ouWx"
   },
   "source": [
    "## Módulos (librerías) \n",
    "\n",
    "* Incorporan funcionalidades. \n",
    "* Pueden ser módulos definidos por el usuario.\n",
    "\n",
    "\n",
    "En el archivo \"IntroPyhton 2021.pdf\" encontrará las librerias más utilizadas, y algunos métodos que serán útiles en la materia.\n",
    "\n",
    "### Diferentes sintaxis de \"imports\" / Importando librerías\n",
    "\n",
    "\n",
    "``` python\n",
    "import matplotlib             #Importa todo los metodos de la libreria. Para invocar un metodo es matplotlib.metodo\n",
    "import matplotlib as mpl      #Importa todo los metodos de la libreria, crea un alias llamado mpl. Para invocar un metodo es mpl.metodo\n",
    "from matplotlib import *      #Importa todo los metodos de la libreria. Para invocar un metodo , se escribe directamente el nombre del metodo\n",
    "from matplotlib import pyplot #importa un metodo de la libreria. Ahorra espacio de memoria  \n",
    "from matplotlib import pyplot as plt #importa un metodo/interfaz de la libreria con un alias. Ahorra espacio de memoria\n",
    "```"
   ]
  },
  {
   "cell_type": "markdown",
   "metadata": {
    "id": "xiT84QtoouWy"
   },
   "source": [
    "# Creando Arrays (Arreglos) usando NumPy\n",
    "\n",
    "**Ejemplos:** \n",
    "Importamos la libreria numpy, y creamos distintos tipos de arreglos usando:\n",
    "* ones\n",
    "* zeros\n",
    "* arange\n",
    "* linspace\n",
    "\n",
    "\n",
    "*help*: usar \"?\" al final del metodo"
   ]
  },
  {
   "cell_type": "code",
   "execution_count": 90,
   "metadata": {
    "id": "x2h7-_tJouWy"
   },
   "outputs": [],
   "source": [
    "import numpy as np\n",
    "np.ones?"
   ]
  },
  {
   "cell_type": "code",
   "execution_count": 91,
   "metadata": {
    "id": "AuKYV-ENouW1"
   },
   "outputs": [
    {
     "data": {
      "text/plain": [
       "array([[1., 1., 1., 1., 1.],\n",
       "       [1., 1., 1., 1., 1.],\n",
       "       [1., 1., 1., 1., 1.],\n",
       "       [1., 1., 1., 1., 1.],\n",
       "       [1., 1., 1., 1., 1.]])"
      ]
     },
     "execution_count": 91,
     "metadata": {},
     "output_type": "execute_result"
    }
   ],
   "source": [
    "import numpy as np\n",
    "\n",
    "np.ones([5,5])"
   ]
  },
  {
   "cell_type": "code",
   "execution_count": 92,
   "metadata": {
    "id": "MFQU7C0iouW3"
   },
   "outputs": [
    {
     "data": {
      "text/plain": [
       "array([0., 0., 0., 0., 0.])"
      ]
     },
     "execution_count": 92,
     "metadata": {},
     "output_type": "execute_result"
    }
   ],
   "source": [
    "np.zeros(5)"
   ]
  },
  {
   "cell_type": "code",
   "execution_count": 93,
   "metadata": {
    "id": "uBCVNWqjouW5"
   },
   "outputs": [
    {
     "data": {
      "text/plain": [
       "array([0. , 0.1, 0.2, 0.3, 0.4, 0.5, 0.6, 0.7, 0.8, 0.9, 1. , 1.1, 1.2,\n",
       "       1.3, 1.4, 1.5, 1.6, 1.7, 1.8, 1.9])"
      ]
     },
     "execution_count": 93,
     "metadata": {},
     "output_type": "execute_result"
    }
   ],
   "source": [
    "np.arange(0,2,.1)\n"
   ]
  },
  {
   "cell_type": "code",
   "execution_count": 97,
   "metadata": {
    "id": "cQaAZatzouW7"
   },
   "outputs": [
    {
     "data": {
      "text/plain": [
       "array([0.        , 0.02020202, 0.04040404, 0.06060606, 0.08080808,\n",
       "       0.1010101 , 0.12121212, 0.14141414, 0.16161616, 0.18181818,\n",
       "       0.2020202 , 0.22222222, 0.24242424, 0.26262626, 0.28282828,\n",
       "       0.3030303 , 0.32323232, 0.34343434, 0.36363636, 0.38383838,\n",
       "       0.4040404 , 0.42424242, 0.44444444, 0.46464646, 0.48484848,\n",
       "       0.50505051, 0.52525253, 0.54545455, 0.56565657, 0.58585859,\n",
       "       0.60606061, 0.62626263, 0.64646465, 0.66666667, 0.68686869,\n",
       "       0.70707071, 0.72727273, 0.74747475, 0.76767677, 0.78787879,\n",
       "       0.80808081, 0.82828283, 0.84848485, 0.86868687, 0.88888889,\n",
       "       0.90909091, 0.92929293, 0.94949495, 0.96969697, 0.98989899,\n",
       "       1.01010101, 1.03030303, 1.05050505, 1.07070707, 1.09090909,\n",
       "       1.11111111, 1.13131313, 1.15151515, 1.17171717, 1.19191919,\n",
       "       1.21212121, 1.23232323, 1.25252525, 1.27272727, 1.29292929,\n",
       "       1.31313131, 1.33333333, 1.35353535, 1.37373737, 1.39393939,\n",
       "       1.41414141, 1.43434343, 1.45454545, 1.47474747, 1.49494949,\n",
       "       1.51515152, 1.53535354, 1.55555556, 1.57575758, 1.5959596 ,\n",
       "       1.61616162, 1.63636364, 1.65656566, 1.67676768, 1.6969697 ,\n",
       "       1.71717172, 1.73737374, 1.75757576, 1.77777778, 1.7979798 ,\n",
       "       1.81818182, 1.83838384, 1.85858586, 1.87878788, 1.8989899 ,\n",
       "       1.91919192, 1.93939394, 1.95959596, 1.97979798, 2.        ])"
      ]
     },
     "execution_count": 97,
     "metadata": {},
     "output_type": "execute_result"
    }
   ],
   "source": [
    "np.linspace(0,2,100)"
   ]
  },
  {
   "cell_type": "markdown",
   "metadata": {
    "id": "AyO5Fc_vouW9"
   },
   "source": [
    "- Explique los resultados obtenidos\n",
    "\n",
    "- ¿Cual es la diferencia entre arange y linspace de NumPy? \n",
    "\n",
    "- ¿Obtenemos los mismos valores para los ejemplos dado de arange y linspace? "
   ]
  },
  {
   "cell_type": "markdown",
   "metadata": {
    "id": "vZzn6QeEouW9"
   },
   "source": [
    "## Copiar arreglos\n"
   ]
  },
  {
   "cell_type": "markdown",
   "metadata": {
    "id": "8xZfUv81ouW-"
   },
   "source": [
    "- **Copiar un array (\"por referencia\").**\n",
    "\n",
    "La copia por referencia se realiza asignando la variable de un array a otra. Después de la asignación ambas variables compartirán los mismos datos en el mismo área de memoria así como los cambios que se produzcan.\n",
    "\n"
   ]
  },
  {
   "cell_type": "code",
   "execution_count": 98,
   "metadata": {
    "id": "UlYYBpCOouW-"
   },
   "outputs": [
    {
     "name": "stdout",
     "output_type": "stream",
     "text": [
      "matriz a\n",
      " [[1 2 3]\n",
      " [4 5 6]]\n",
      "matriz b\n",
      " [[1 2 3]\n",
      " [4 5 6]]\n",
      "valores modificados\n",
      "matriz a\n",
      " [[ 1 -1  3]\n",
      " [ 4  5  6]]\n",
      "matriz b\n",
      " [[ 1 -1  3]\n",
      " [ 4  5  6]]\n"
     ]
    }
   ],
   "source": [
    "import numpy as np\n",
    "a = np.array([[1, 2, 3], [4, 5, 6]]) # matriz de 2x3 elementos\n",
    "b = a\n",
    "print(\"matriz a\\n\",a)\n",
    "print(\"matriz b\\n\",b)\n",
    "\n",
    "a[0, 1] = -1 #Modificamos un elemento de la matriz a\n",
    "\n",
    "print(\"valores modificados\")\n",
    "print(\"matriz a\\n\",a)\n",
    "print(\"matriz b\\n\",b)\n"
   ]
  },
  {
   "cell_type": "markdown",
   "metadata": {
    "id": "pNEVkizHouXA"
   },
   "source": [
    "- **Copiar un array (\"por valor\").**\n",
    "\n",
    "Metodo copy()\n",
    "\n",
    "Crea una copia de un array en otra posicion de memoria."
   ]
  },
  {
   "cell_type": "code",
   "execution_count": 99,
   "metadata": {
    "id": "Ph-oecVrouXA"
   },
   "outputs": [
    {
     "name": "stdout",
     "output_type": "stream",
     "text": [
      "Vector original:  [1 2 3 4 5]\n",
      "\n",
      "Vector copia:  [1 2 3 4 5]\n",
      "\n",
      "Valores modificados\n",
      "\n",
      "Vector original:  [10  2  3  4  5]\n",
      "\n",
      "Vector copia:  [1 2 3 4 5]\n"
     ]
    }
   ],
   "source": [
    "vector_a = np.array([1, 2, 3, 4, 5])\n",
    "vector_copia = vector_a.copy()\n",
    "\n",
    "print(\"Vector original: \", vector_a)\n",
    "print(\"\\nVector copia: \", vector_copia)\n",
    "\n",
    "vector_a[0] = 10 #Modificamos el primer elemento de vector_a\n",
    "\n",
    "print(\"\\nValores modificados\")\n",
    "print(\"\\nVector original: \", vector_a)\n",
    "print(\"\\nVector copia: \", vector_copia)"
   ]
  },
  {
   "cell_type": "markdown",
   "metadata": {
    "id": "hNjRfPHeouXC"
   },
   "source": [
    "Existen otras formas de copiar un array por valor, queda como tarea investigarlos y dar ejemplos."
   ]
  },
  {
   "cell_type": "code",
   "execution_count": 103,
   "metadata": {
    "id": "Vzw8eipIouXC"
   },
   "outputs": [
    {
     "name": "stdout",
     "output_type": "stream",
     "text": [
      "[[ 1 -1  3]\n",
      " [ 4  5  6]]\n"
     ]
    }
   ],
   "source": [
    "copia[0:4]=a\n",
    "\n",
    "print(copia)"
   ]
  },
  {
   "cell_type": "markdown",
   "metadata": {
    "id": "DT8bVHQgouXE"
   },
   "source": [
    "# Funciones definidas por el usuario\n",
    "\n",
    "Las funciones se pueden crear en cualquier punto de un programa, escribiendo su definición.\n",
    "\n",
    "La primera línea de la definición de una función contiene:\n",
    "\n",
    "* la palabra reservada ***def***\n",
    "* el nombre de la función\n",
    "* paréntesis (que pueden incluir los argumentos de la función) seguido de \":\" \n",
    "\n",
    "Las instrucciones que forman la función se escriben con sangría con respecto a la primera línea.\n",
    "\n",
    "Se puede indicar el final de la función con la palabra reservada return, aunque no es obligatorio.\n",
    "\n",
    "Para poder utilizar una función en un programa se tiene que haber definido antes. Por ello, normalmente las definiciones de las funciones se suelen escribir al principio de los programas\n",
    "\n",
    "**Ejemplo:**\n",
    "```python\n",
    "def suma(a,b):\n",
    "    return a + b\n",
    "\n",
    "print(suma(5,10))\n",
    "```"
   ]
  },
  {
   "cell_type": "code",
   "execution_count": 104,
   "metadata": {
    "id": "m7IM5Oq6ouXE"
   },
   "outputs": [
    {
     "name": "stdout",
     "output_type": "stream",
     "text": [
      "numero B es mayor\n",
      "numero A es mayor\n",
      "Ambos numeros son iguales\n"
     ]
    }
   ],
   "source": [
    "def NumeroMayor(numA, numB):\n",
    "    \"\"\"\n",
    "    Entrada\n",
    "    a= valor entero\n",
    "    b= valor entero\n",
    "\n",
    "    Salida\n",
    "    retorna un mensaje indicando el mayor\n",
    "    \"\"\"\n",
    "    if numA > numB:\n",
    "      print(\"numero A es mayor\")\n",
    "    elif numA < numB:\n",
    "      print(\"numero B es mayor\")\n",
    "    else:\n",
    "      print(\"Ambos numeros son iguales\")\n",
    "\n",
    "NumeroMayor(5,9)\n",
    "NumeroMayor(15,8)\n",
    "NumeroMayor(5,5)"
   ]
  },
  {
   "cell_type": "markdown",
   "metadata": {},
   "source": [
    "## List vs Array\n",
    "\n",
    "Evaluemos la eficiencia de cada una mediante una suma de arreglos"
   ]
  },
  {
   "cell_type": "code",
   "execution_count": 105,
   "metadata": {},
   "outputs": [
    {
     "name": "stdout",
     "output_type": "stream",
     "text": [
      "Tiempo de lista 8.422064065933228\n",
      "Tiempo del array 2.9548699855804443\n",
      "Numpy es en este ejemplo 2.850231687699392 mas rapido!\n"
     ]
    }
   ],
   "source": [
    "import time\n",
    "import numpy as np\n",
    "\n",
    "size_of_vec = 10000000\n",
    "\n",
    "def pure_python_version(X, Y):\n",
    "    t1 = time.time()\n",
    "    Z = [X[i] + Y[i] for i in range(len(X)) ]\n",
    "    return time.time() - t1\n",
    "\n",
    "def numpy_version(X, Y):\n",
    "    t1 = time.time()\n",
    "    Z = X + Y\n",
    "    return time.time() - t1\n",
    "\n",
    "np_array = np.random.randint(1, 100, size=size_of_vec)\n",
    "py_list = list(np_array)\n",
    "\n",
    "np_array2 = np.random.randint(1, 100, size=size_of_vec)\n",
    "py_list2 = list(np_array2)\n",
    "\n",
    "t1 = pure_python_version(py_list, py_list2)\n",
    "t2 = numpy_version(np_array, np_array2)\n",
    "print(\"Tiempo de lista\", t1)\n",
    "print(\"Tiempo del array\", t2)\n",
    "print(\"Numpy es en este ejemplo \" + str(t1/t2) + \" mas rapido!\")\n"
   ]
  },
  {
   "cell_type": "markdown",
   "metadata": {
    "id": "7FHffLWHouXJ"
   },
   "source": [
    "# Graficos\n",
    "\n",
    "**import matplotlib.pyplot as plt**\n",
    "\n",
    "**figure**(num = None, figsize = (8, 6), dpi = 80, facecolor = 'w', edgecolor = 'k'): Crea la imagen y se puede establecer el formato como tamanio, color de fondo y borde, etc.\n",
    "\n",
    "**subplot**(numRows, numCols, plotNum):Permite incluir varias gráficas en una única figura.\n",
    "\n",
    "**plot**(x, y, linestyle, linewidth, marker):Permite incluir varias gráficas en una única figura. Tanto x como y pueden ser abcisas tuplas, listas o arrays. La única condición es que el tamaño de ambas debe ser el mismo ya que en caso contrario python nos devolverá un fallo de tipo dimesión. \n",
    "\n",
    "**show()**: Presenta las figuras en pantalla.\n",
    "\n",
    "**xlabel**(‘s’, comandos_optativos): Etiqueta el eje X\n",
    "\n",
    "**ylabel**(‘s’, comandos_optativos): Etiqueta el eje Y\n",
    "\n",
    "**title**(‘s’, comandos_optativos): Coloca un titulo a la gráfica\n",
    "\n",
    "**axis**() Establece u obtiene las propiedades de los ejes\n",
    "\n",
    "\n",
    "Mas info de colores: https://matplotlib.org/2.0.2/index.html \n",
    "\n",
    "Mas info sobre matplotlib.pyplot https://matplotlib.org/stable/api/_as_gen/matplotlib.pyplot.html \n"
   ]
  },
  {
   "cell_type": "markdown",
   "metadata": {
    "id": "3H6x2Gw8ouXK"
   },
   "source": [
    "**Ejemplos:**  Ejecute los siguientes codigos y comente que realiza cada linea.\n",
    "\n",
    "**Codigo 1:**"
   ]
  },
  {
   "cell_type": "code",
   "execution_count": 12,
   "metadata": {
    "colab": {
     "base_uri": "https://localhost:8080/",
     "height": 313
    },
    "executionInfo": {
     "elapsed": 460,
     "status": "ok",
     "timestamp": 1630447245974,
     "user": {
      "displayName": "Leonardo Miguel Albarracin",
      "photoUrl": "https://lh3.googleusercontent.com/a-/AOh14GiACva8VFYfp-luGww-L7wbZe0xouSCTyBQDvXcCQ=s64",
      "userId": "16397909066210112589"
     },
     "user_tz": 180
    },
    "id": "5tOxex8JouXK",
    "outputId": "eed8e4ff-b77d-4456-c4c2-53ff26ca8f1c"
   },
   "outputs": [
    {
     "name": "stdout",
     "output_type": "stream",
     "text": [
      "[ 2.  4.  6.  8. 10. 12. 14. 16. 18. 20.]\n"
     ]
    },
    {
     "data": {
      "image/png": "[encoded data removed]",
      "text/plain": [
       "<Figure size 432x288 with 1 Axes>"
      ]
     },
     "metadata": {
      "needs_background": "light"
     },
     "output_type": "display_data"
    }
   ],
   "source": [
    "import numpy as np\n",
    "import math as m\n",
    "import matplotlib.pyplot as plt\n",
    "\n",
    "x = np.linspace(1,10,10)\n",
    "y1 = np.cos(x)\n",
    "y2 = x*2\n",
    "print(y2)\n",
    "#plt.plot(x,y1,x,y2)\n",
    "\n",
    "#comente la linea 9 y ejecute el codigo con las lineas 12 y 13 sin comentar\n",
    "plt.plot(x,y1,marker='+')\n",
    "plt.plot(x,y2,'ro')\n",
    "\n",
    "plt.title(\"Graficas\")\n",
    "plt.legend(('y1','y2'), loc='upper left')\n",
    "plt.xlabel('tiempo')\n",
    "plt.ylabel('y', fontsize=10)\n",
    "plt.show()\n"
   ]
  },
  {
   "cell_type": "markdown",
   "metadata": {
    "id": "G1GR4E9DouXM"
   },
   "source": [
    "**Codigo 2:**"
   ]
  },
  {
   "cell_type": "code",
   "execution_count": 33,
   "metadata": {
    "colab": {
     "base_uri": "https://localhost:8080/",
     "height": 264
    },
    "executionInfo": {
     "elapsed": 809,
     "status": "ok",
     "timestamp": 1631817547592,
     "user": {
      "displayName": "Leonardo Miguel Albarracin",
      "photoUrl": "https://lh3.googleusercontent.com/a-/AOh14GiACva8VFYfp-luGww-L7wbZe0xouSCTyBQDvXcCQ=s64",
      "userId": "16397909066210112589"
     },
     "user_tz": 180
    },
    "id": "39T6lSDfouXN",
    "outputId": "13816543-384c-4d0f-9513-f3da1e69f43f"
   },
   "outputs": [
    {
     "data": {
      "image/png": "[encoded data removed]",
      "text/plain": [
       "<Figure size 1000x500 with 3 Axes>"
      ]
     },
     "metadata": {},
     "output_type": "display_data"
    }
   ],
   "source": [
    "import numpy as np\n",
    "import matplotlib.pyplot as plt\n",
    "\n",
    "x = np.linspace(1,10,100)\n",
    "y1 = x**3+3*x+10\n",
    "y2 = np.cos(x)\n",
    "y3 = np.sin(x)\n",
    "\n",
    "plt.figure(1, (20,10), 50, 'w','r')\n",
    "\n",
    "plt.subplot(2,2,1)\n",
    "plt.plot(x,y1)\n",
    "\n",
    "plt.subplot(2,2,3)\n",
    "plt.plot(x,y2)\n",
    "\n",
    "plt.subplot(2,2,4)\n",
    "plt.plot(x,y3)\n",
    "\n",
    "plt.show()"
   ]
  },
  {
   "cell_type": "markdown",
   "metadata": {
    "id": "wf-DDuLfouXP"
   },
   "source": [
    "**Codigo 3:** Muestre los graficos de las 4 funciones de $y_i$ en 4 paneles distintos dentro de una misma figura."
   ]
  },
  {
   "cell_type": "code",
   "execution_count": 36,
   "metadata": {
    "colab": {
     "base_uri": "https://localhost:8080/",
     "height": 415
    },
    "executionInfo": {
     "elapsed": 1153,
     "status": "ok",
     "timestamp": 1630447255271,
     "user": {
      "displayName": "Leonardo Miguel Albarracin",
      "photoUrl": "https://lh3.googleusercontent.com/a-/AOh14GiACva8VFYfp-luGww-L7wbZe0xouSCTyBQDvXcCQ=s64",
      "userId": "16397909066210112589"
     },
     "user_tz": 180
    },
    "id": "NQ09V04JouXP",
    "outputId": "713e2e6a-2bb8-46f2-ba47-b2443d8861a7"
   },
   "outputs": [
    {
     "data": {
      "text/plain": [
       "[<matplotlib.lines.Line2D at 0x162b3947190>]"
      ]
     },
     "execution_count": 36,
     "metadata": {},
     "output_type": "execute_result"
    },
    {
     "data": {
      "image/png": "[encoded data removed]",
      "text/plain": [
       "<Figure size 1500x500 with 4 Axes>"
      ]
     },
     "metadata": {
      "needs_background": "light"
     },
     "output_type": "display_data"
    }
   ],
   "source": [
    "#Escriba su codigo aqui\n",
    "import matplotlib.pyplot as plt\n",
    "\n",
    "x = np.linspace(1,10,100)\n",
    "y1 = x**3+3*x+10\n",
    "y2 = x*2\n",
    "y3 = np.cos(x)\n",
    "y4 = np.sin(x)\n",
    "\n",
    "plt.figure(1, (30,10), 50)\n",
    "\n",
    "plt.subplot(2,2,1)\n",
    "plt.plot(x,y1)\n",
    "\n",
    "plt.subplot(2,2,2)\n",
    "plt.plot(x,y2)\n",
    "\n",
    "plt.subplot(2,2,3)\n",
    "plt.plot(x,y3)\n",
    "\n",
    "plt.subplot(2,2,4)\n",
    "plt.plot(x,y4)\n",
    "\n"
   ]
  },
  {
   "cell_type": "markdown",
   "metadata": {
    "id": "1I7MHDfPTYGn"
   },
   "source": [
    "# **LECTURA DE ARCHIVOS**\n",
    "\n",
    "Python ofrece diversas funciones para la lectura datos almacenados en archivos de texto plano. El mas sencillo de utilizar, es la funcion loadtxt() de la libreria Numpy."
   ]
  },
  {
   "cell_type": "markdown",
   "metadata": {
    "id": "3aTp2KhCVbBy"
   },
   "source": [
    "### Accedemos a la informacion del archivo.\n",
    "\n",
    "En este ejemplo leeremos la cantidad de casos diarios confirmados de COVID19 registrados durante el mes de enero del 2022 en nuestro pais.\n",
    "\n",
    "\n",
    "Fuente: https://data.humdata.org/dataset/novel-coronavirus-2019-ncov-cases "
   ]
  },
  {
   "cell_type": "code",
   "execution_count": 38,
   "metadata": {
    "id": "HK2fP7vvV1Cg"
   },
   "outputs": [
    {
     "name": "stdout",
     "output_type": "stream",
     "text": [
      "[ 20020  20502  44396  81210  95159 109608 110533 101689  73319  88352\n",
      " 134439 131082 128402 139853  96652  65241 102458 120982 128321 129709\n",
      " 118171  98146  69884  78121 100863  88503  77729  63884  41978  21570\n",
      "  43472]\n"
     ]
    }
   ],
   "source": [
    "import numpy as np\n",
    "%pwd\n",
    "casosCOVID19 = np.loadtxt(\"COVID19-enero2022.csv\",delimiter=\",\",dtype=int)\n",
    "\n",
    "#Visualizamos el contenido\n",
    "print(casosCOVID19)"
   ]
  },
  {
   "cell_type": "code",
   "execution_count": 39,
   "metadata": {
    "id": "esc3dlAcXuOm"
   },
   "outputs": [
    {
     "data": {
      "image/png": "[encoded data removed]",
      "text/plain": [
       "<Figure size 800x600 with 1 Axes>"
      ]
     },
     "metadata": {},
     "output_type": "display_data"
    }
   ],
   "source": [
    "import matplotlib.pyplot as plt\n",
    "\n",
    "plt.figure(num=None, figsize=(8, 6), dpi=100, facecolor='w', edgecolor='k')\n",
    "\n",
    "plt.plot(casosCOVID19,\"y*-\")\n",
    "plt.title(\"CASOS DE COVID enero/2022\")\n",
    "plt.xlabel(\"Dias\")\n",
    "plt.ylabel(\"Casos\")\n",
    "plt.savefig(\"Figura_covid.png\",format=\"png\")\n",
    "plt.show()\n"
   ]
  },
  {
   "cell_type": "markdown",
   "metadata": {
    "id": "3K4DC9QwUN0i"
   },
   "source": [
    "## Google COLABS\n",
    "### Primero debemos montar nuestro Drive para acceder a los archivos."
   ]
  },
  {
   "cell_type": "code",
   "execution_count": 42,
   "metadata": {
    "id": "GURA_W7FTyu1"
   },
   "outputs": [],
   "source": [
    "from google.colab import drive\n",
    "# Esto te va a solicitar autorizacion para acceder a tu Drive. \n",
    "# Entra al link y acepta los permisos. Copia la clave suministrada y pegalo donde te lo solicita\n",
    "drive.mount('/content/drive')"
   ]
  },
  {
   "cell_type": "code",
   "execution_count": null,
   "metadata": {
    "id": "ZQMXs8pzU9Mp"
   },
   "outputs": [],
   "source": [
    "# Acá seteamos el directorio de trabajo. \n",
    "# La direccion depende de su organizacion.\n",
    "# Recomiendo crear una carpeta en la raiz, asi accederan rapidamente a sus archivos\n",
    "\n",
    "%cd /content/drive/My\\ Drive/0.MetodosNumericos2021 #incluir su directorio\n",
    "\n",
    "#Verificamos que nos encontremos en el directorio de trabajo deseado\n",
    "%pwd"
   ]
  },
  {
   "cell_type": "markdown",
   "metadata": {
    "id": "GHyLmMT8ouXG"
   },
   "source": [
    "## Ejercicio TP ## \n",
    "\n",
    "La serie infinita $f(n)=\\sum_{k=1}^n(1/i^4)$ converge a  un valor de $pi^4/90$ conforme n tiende a infinito. \n",
    "\n",
    "+ Escriba un programa de simple precisión para calcular f(n) para n=10000 por medio del cálculo de la suma desde i = 1 hasta 10000. Después realice el cálculo en sentido inverso. Modularice su trabajo.\n",
    "+ En cada caso, calcule el error relativo. \n",
    "+ Explique los resultados. \n",
    "\n",
    "\n",
    "Nota: Investigue sobre los distintos tipos de precisión que permite Python usando Numpy."
   ]
  },
  {
   "cell_type": "code",
   "execution_count": 23,
   "metadata": {
    "id": "IOJmLl_pouXG"
   },
   "outputs": [
    {
     "name": "stdout",
     "output_type": "stream",
     "text": [
      "Suma ascendente:  1.0823228\n",
      "Suma descendente:  1.0823231\n",
      "Valor verdadero:  1.082323233711138\n",
      "Error relativo 1:  3.675324379271479e-05\n",
      "Error relativo 2:  1.4724835672521537e-05\n"
     ]
    }
   ],
   "source": [
    "import numpy as np\n",
    "\n",
    "x1 = np.linspace(1,10000,10000)\n",
    "x2 = np.flipud(x1)  #revertir arreglo\n",
    "\n",
    "y1 = np.single(1) / (np.single(x1)) ** np.single(4)\n",
    "y2 = np.single(1) / (np.single(x2)) ** np.single(4)\n",
    "\n",
    "suma1 = y1.sum()\n",
    "suma2 = y2.sum()\n",
    "\n",
    "real = (np.pi ** 4) / 90\n",
    "\n",
    "error1 = (real - suma1) / real * 100\n",
    "error2 = (real - suma2) / real * 100\n",
    "\n",
    "print(\"Suma ascendente: \", suma1)\n",
    "print(\"Suma descendente: \", suma2)\n",
    "print(\"Valor verdadero: \", real)\n",
    "print(\"Error relativo 1: \", error1)\n",
    "print(\"Error relativo 2: \", error2)\n",
    "\n"
   ]
  },
  {
   "cell_type": "code",
   "execution_count": 61,
   "metadata": {},
   "outputs": [
    {
     "data": {
      "text/plain": [
       "0.012345679012345678"
      ]
     },
     "execution_count": 61,
     "metadata": {},
     "output_type": "execute_result"
    }
   ],
   "source": [
    "1/3**4"
   ]
  },
  {
   "cell_type": "code",
   "execution_count": 75,
   "metadata": {},
   "outputs": [
    {
     "data": {
      "text/plain": [
       "array([0., 0., 0., 0., 0.])"
      ]
     },
     "execution_count": 75,
     "metadata": {},
     "output_type": "execute_result"
    }
   ],
   "source": [
    "np.zeros(5)"
   ]
  },
  {
   "cell_type": "code",
   "execution_count": 82,
   "metadata": {},
   "outputs": [
    {
     "data": {
      "text/plain": [
       "array([1, 2, 3, 4, 5, 6, 7, 8, 9])"
      ]
     },
     "execution_count": 82,
     "metadata": {},
     "output_type": "execute_result"
    }
   ],
   "source": [
    "np.arange(1,10,1)"
   ]
  },
  {
   "cell_type": "code",
   "execution_count": 83,
   "metadata": {},
   "outputs": [
    {
     "name": "stdout",
     "output_type": "stream",
     "text": [
      "Original:  [-1.  0.  0.  0.  0.]\n",
      "Copia:  [0. 0. 0. 0. 0.]\n"
     ]
    }
   ],
   "source": [
    "a = np.zeros(5)\n",
    "b = a.copy()\n",
    "a[0] = -1\n",
    "print(\"Original: \", a)\n",
    "print(\"Copia: \", b)"
   ]
  },
  {
   "cell_type": "code",
   "execution_count": 90,
   "metadata": {},
   "outputs": [
    {
     "data": {
      "text/plain": [
       "18.55164488782207"
      ]
     },
     "execution_count": 90,
     "metadata": {},
     "output_type": "execute_result"
    }
   ],
   "source": [
    "x=4\n",
    "(np.e**(1+x))/(2*x)"
   ]
  },
  {
   "cell_type": "code",
   "execution_count": null,
   "metadata": {},
   "outputs": [],
   "source": []
  }
 ],
 "metadata": {
  "colab": {
   "collapsed_sections": [
    "APYYZKg0ouWx"
   ],
   "name": "IntroPython2021.ipynb",
   "provenance": [
    {
     "file_id": "1NWyRLoMt5lfGgPdCgloZcPdZD0L96BNa",
     "timestamp": 1598225066848
    }
   ]
  },
  "kernelspec": {
   "display_name": "Python 3 (ipykernel)",
   "language": "python",
   "name": "python3"
  },
  "language_info": {
   "codemirror_mode": {
    "name": "ipython",
    "version": 3
   },
   "file_extension": ".py",
   "mimetype": "text/x-python",
   "name": "python",
   "nbconvert_exporter": "python",
   "pygments_lexer": "ipython3",
   "version": "3.9.7"
  }
 },
 "nbformat": 4,
 "nbformat_minor": 1
}
