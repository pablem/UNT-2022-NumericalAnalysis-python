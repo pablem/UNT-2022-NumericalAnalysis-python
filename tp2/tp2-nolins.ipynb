{
 "cells": [
  {
   "cell_type": "markdown",
   "id": "154a762b",
   "metadata": {},
   "source": [
    "# TP2 - TEMA: ECUACIONES NO LINEALES\n",
    "## PARTE 1"
   ]
  },
  {
   "cell_type": "markdown",
   "id": "6854709a",
   "metadata": {},
   "source": [
    "1) Se está tratando de localizar, con mayor precisión, la raíz de 𝒇(𝒙)=𝒙^−𝟏−𝒕𝒈(𝒙) que está entre $[0.5, \\pi/2)$\n",
    "\n",
    "  **a) Graficar la función.**"
   ]
  },
  {
   "cell_type": "code",
   "execution_count": 88,
   "id": "a4a14ad5",
   "metadata": {},
   "outputs": [
    {
     "data": {
      "text/plain": [
       "[<matplotlib.lines.Line2D at 0x1eef2d13b50>]"
      ]
     },
     "execution_count": 88,
     "metadata": {},
     "output_type": "execute_result"
    },
    {
     "data": {
      "image/png": "[encoded data removed]",
      "text/plain": [
       "<Figure size 432x288 with 1 Axes>"
      ]
     },
     "metadata": {
      "needs_background": "light"
     },
     "output_type": "display_data"
    }
   ],
   "source": [
    "import matplotlib.pyplot as plt\n",
    "import numpy as np\n",
    "\n",
    "# n = np.pi/2 - 0.0001\n",
    "n = 1.5\n",
    "x = np.linspace(0.5, n, 100)\n",
    "\n",
    "y = x**(-1) - np.tan(x)\n",
    "\n",
    "plt.plot(x,y)"
   ]
  },
  {
   "cell_type": "markdown",
   "id": "4ebfaf78",
   "metadata": {},
   "source": [
    "+ la función tiene una raíz en $x \\approx 0.860333589019380...$\n",
    "+ no está definida para $n\\pi/2$ decrece por izquierda asintóticamente para este valor"
   ]
  },
  {
   "cell_type": "markdown",
   "id": "670a7542",
   "metadata": {},
   "source": [
    "**b) Método de la Bisección.** ¿Qué características tiene este método? En cada iteración calcule el error obtenido."
   ]
  },
  {
   "cell_type": "code",
   "execution_count": 89,
   "id": "6dc4be3b",
   "metadata": {},
   "outputs": [
    {
     "name": "stdout",
     "output_type": "stream",
     "text": [
      "It.     a       b       m      f(a)*f(b)   error   \n",
      " 1   0.500   1.500   1.000      -0.810    0.5\n",
      " 2   0.500   1.000   0.750       0.584    0.25\n",
      " 3   0.750   1.000   0.875      -0.022    0.125\n",
      " 4   0.750   0.875   0.812       0.070    0.0625\n",
      " 5   0.812   0.875   0.844       0.011    0.03125\n",
      " 6   0.844   0.875   0.859       0.000    0.015625\n",
      " 7   0.859   0.875   0.867      -0.000    0.0078125\n",
      " 8   0.859   0.867   0.863      -0.000    0.00390625\n",
      " 9   0.859   0.863   0.861      -0.000    0.001953125\n",
      " 10  0.859   0.861   0.860      -0.000    0.0009765625\n",
      " 11  0.859   0.860   0.860       0.000    0.00048828125\n",
      " 12  0.860   0.860   0.860       0.000    0.000244140625\n",
      " 13  0.860   0.860   0.860       0.000    0.0001220703125\n",
      " 14  0.860   0.860   0.860       0.000    6.103515625e-05\n",
      " 15  0.860   0.860   0.860       0.000    3.0517578125e-05\n",
      " 16  0.860   0.860   0.860      -0.000    1.52587890625e-05\n",
      " 17  0.860   0.860   0.860       0.000    7.62939453125e-06\n",
      " 18  0.860   0.860   0.860       0.000    3.814697265625e-06\n",
      " 19  0.860   0.860   0.860      -0.000    1.9073486328125e-06\n",
      " 20  0.860   0.860   0.860       0.000    9.5367431640625e-07\n"
     ]
    }
   ],
   "source": [
    "import numpy as np\n",
    "\n",
    "def f(a):\n",
    "    return a**(-1)-np.tan(a)\n",
    "\n",
    "a, b = 0.5, 1.5\n",
    "itmax = 20\n",
    "\n",
    "print('{:^4s}'.format(\"It.\"), '{:^7s}'.format(\"a\"), '{:^7s}'.format(\"b\"), '{:^7s}'.format(\"m\"), '{:^13s}'.format(\"f(a)*f(b)\"), '{:<8s}'.format(\"error\"))\n",
    "\n",
    "for i in range(itmax):\n",
    "    \n",
    "    m = (a+b)/2    \n",
    "    control = f(a)*f(m)\n",
    "    \n",
    "    print('{:^4d}'.format(i+1), '{:<7.3f}'.format(a), '{:<7.3f}'.format(b), '{:<7.3f}'.format(m), '{:^13.3f}'.format(control), end=\"\")\n",
    "\n",
    "    if control > 0:\n",
    "        a = m\n",
    "    else:\n",
    "        b = m\n",
    "    \n",
    "    print(np.abs(a-b))\n",
    "    \n"
   ]
  },
  {
   "cell_type": "markdown",
   "id": "28c5f97c",
   "metadata": {},
   "source": [
    "+ Es un método cerrado (siempre converge)\n",
    "+ El error decrece exponencialmente (inversamnete proporcional a 2^n)\n",
    "+ Luego de 10 iteraciones se reduce el la amplitud de la cota a |Δx|<1E^-3"
   ]
  },
  {
   "cell_type": "markdown",
   "id": "0d1ee904",
   "metadata": {},
   "source": [
    "**c) Método de la Secante.** ¿Qué características tiene este método? Calcule el error cometido en cada iteración."
   ]
  },
  {
   "cell_type": "code",
   "execution_count": 90,
   "id": "9ba75d4d",
   "metadata": {},
   "outputs": [
    {
     "name": "stdout",
     "output_type": "stream",
     "text": [
      "It.   Xn-1     Xn     Xn+1   error   \n",
      " 1   0.500   1.500   0.598   0.902360727076585\n",
      " 2   1.500   0.598   0.660   0.062080749823046566\n",
      " 3   0.598   0.660   0.842   0.1820202488718804\n",
      " 4   0.660   0.842   0.860   0.01855479413028338\n",
      " 5   0.842   0.860   0.860   3.872861068499045e-05\n",
      " 6   0.860   0.860   0.860   2.0534241373937334e-07\n",
      " 7   0.860   0.860   0.860   2.483124816876625e-12\n",
      " 8   0.860   0.860   0.860   0.0\n"
     ]
    }
   ],
   "source": [
    "import numpy as np\n",
    "\n",
    "def f(x):\n",
    "    return x**(-1)-np.tan(x)\n",
    "\n",
    "a, b = 0.5, 1.5\n",
    "itmax = 8\n",
    "\n",
    "print('{:^4s}'.format(\"It.\"), '{:^7s}'.format(\"Xn-1\"), '{:^7s}'.format(\"Xn\"), '{:^7s}'.format(\"Xn+1\"), '{:<8s}'.format(\"error\"))\n",
    "\n",
    "for i in range(itmax):\n",
    "\n",
    "    x = b - f(b)*(b-a)/(f(b)-f(a))\n",
    "    \n",
    "    print('{:^4d}'.format(i+1), '{:<7.3f}'.format(a), '{:<7.3f}'.format(b), '{:<7.3f}'.format(x), np.abs(b-x))\n",
    "    \n",
    "    a = b\n",
    "    b = x\n"
   ]
  },
  {
   "cell_type": "markdown",
   "id": "a2e40e50",
   "metadata": {},
   "source": [
    "+ Es un método abierto (puede diverger)\n",
    "+ En las primeras iteraciones el valor del error aumenta y disminuye (oscila).\n",
    "+ Luego de la 4ta iteración se redujo mucho el error."
   ]
  },
  {
   "cell_type": "markdown",
   "id": "88a0628d",
   "metadata": {},
   "source": [
    "**d) Bisección Vs. Secante**\n",
    "\n",
    "+ En comparación con la Bisección, con el método de Secante se llega mucho más rápido a la convergencia.\n",
    "+ La principal desventaja de la Secante es que puede diverger, en cambio la Bisección siempre converge."
   ]
  },
  {
   "cell_type": "markdown",
   "id": "4542c4ea",
   "metadata": {},
   "source": [
    "**e) Método de Regula Falsi Vs. Método de la Secante.**"
   ]
  },
  {
   "cell_type": "code",
   "execution_count": 91,
   "id": "f58022cf",
   "metadata": {},
   "outputs": [
    {
     "name": "stdout",
     "output_type": "stream",
     "text": [
      "-----Método de la Secante-----\n",
      "La raíz es:  0.8603335890168966 Error:  2.0534241373937334e-07  N° de iteraciones:  6\n",
      "\n",
      "----- Método Regula Falsi -----\n",
      "La raíz es:  0.8603335890193797 Error:  0.0  N° de iteraciones:  12\n"
     ]
    }
   ],
   "source": [
    "import numpy as np\n",
    "\n",
    "def f(x):\n",
    "    return x**(-1)-np.tan(x)\n",
    "\n",
    "### Método de la Secante:\n",
    "def secante(a, b, itmax, eps):\n",
    "    it = 0\n",
    "    error = eps + 1\n",
    "    \n",
    "    while it <= itmax and error > eps:\n",
    "        it = it + 1\n",
    "        x = b - f(b)*(b-a)/(f(b)-f(a)) # a = b - f(b)*(b-a)/(f(b)-f(a))\n",
    "        error = np.abs(b-x)            \n",
    "        a = b                          # b = a\n",
    "        b = x\n",
    "    if it > itmax:\n",
    "        print(\"No converge\")\n",
    "    else: \n",
    "        print(\"La raíz es: \", x, \"Error: \", error, \" N° de iteraciones: \", it)\n",
    "\n",
    "### Método Regula Falsi:\n",
    "def regulaFasi(a, b, itmax, eps):\n",
    "    \n",
    "    it = 0\n",
    "    error = eps + 1    \n",
    "    \n",
    "    while it <= itmax and error > eps:\n",
    "        it = it + 1\n",
    "        x = b - f(b)*(b-a)/(f(b)-f(a))\n",
    "        \n",
    "        if f(a)*f(b)>0:\n",
    "            a = x\n",
    "        else:\n",
    "            b = x\n",
    "            \n",
    "        error = np.abs(b-a)\n",
    "            \n",
    "    if it > itmax:\n",
    "        print(\"No converge\")\n",
    "    else: \n",
    "        print(\"La raíz es: \", x, \"Error: \", error, \" N° de iteraciones: \", it)\n",
    "\n",
    "\n",
    "### implementación...\n",
    "\n",
    "a, b  = 0.5, 1.5\n",
    "itmax = 50\n",
    "eps   = 1E-6\n",
    "\n",
    "print(\"-----Método de la Secante-----\")\n",
    "secante(a, b, itmax, eps)\n",
    "\n",
    "print(\"\\n----- Método Regula Falsi -----\")\n",
    "regulaFasi(a, b, itmax, eps)\n",
    "\n",
    "#0.860333589019380"
   ]
  },
  {
   "cell_type": "markdown",
   "id": "10f953ab",
   "metadata": {},
   "source": [
    "+ Con el método de la secante se llega al valor deseado con menos iteraciones.\n",
    "\n",
    "\n",
    "+ De teoría:\n",
    "\n",
    "<table>\n",
    "    <tr>\n",
    "        <th>Regular Falsi</th>\n",
    "        <th>Secante</th>\n",
    "    </tr>\n",
    "    <tr>\n",
    "        <td>Convergencia lenta. Pero es útil como aproximación inicial de otros métodos</td>\n",
    "        <td>Es más rápido que otros métodos</td>\n",
    "    </tr>\n",
    "    <tr>\n",
    "        <td>Usa toda la información que tiene (abscisa y ordenada)</td>\n",
    "        <td>Es necesario que f(x) cambie de signo</td>\n",
    "    </tr>\n",
    "    <tr>\n",
    "        <td style=\"color:green\">Siempre converge</td>\n",
    "        <td style=\"color:red\">Puede diverger</td>\n",
    "    </tr>\n",
    "    <tr>\n",
    "        <td>Necesita un intervalo que contenga a la raíz.</td>\n",
    "        <td></td>\n",
    "    </tr>\n",
    "</table>"
   ]
  },
  {
   "cell_type": "markdown",
   "id": "564ab97a",
   "metadata": {},
   "source": [
    "**2) Método de Newton–Raphson.** ¿Qué ocurre si ejecuta el algoritmo con la función $f(x) = x_3 − x$ , con el valor inicial $x_0= \\sqrt{1/5}$?"
   ]
  },
  {
   "cell_type": "code",
   "execution_count": 2,
   "id": "1a59818b",
   "metadata": {},
   "outputs": [
    {
     "name": "stdout",
     "output_type": "stream",
     "text": [
      "x = √1/5\n",
      "No converge\n",
      "\n",
      "x = -2\n",
      "La raíz es:  -1.000000 Error:  1.2353066562997839e-06  N° de iteraciones:  6\n",
      "\n",
      "x = 0.01\n",
      "La raíz es:  0.000000 Error:  2.0006001800712403e-06  N° de iteraciones:  2\n",
      "\n",
      "x = 0.5\n",
      "La raíz es:  -1.000000 Error:  0.0  N° de iteraciones:  2\n",
      "\n",
      "x = 7\n",
      "La raíz es:  1.000000 Error:  1.097711350173114e-05  N° de iteraciones:  9\n"
     ]
    }
   ],
   "source": [
    "import numpy as np\n",
    "\n",
    "def f(x):\n",
    "    return x**3-x ##raíces en x=0, x=-1, x=1 \n",
    "\n",
    "def df(x):\n",
    "    return 3*(x**2)-1\n",
    "\n",
    "### Método de Newton–Raphson:\n",
    "def newtonRaphson(a, itmax, eps):\n",
    "    it = 0\n",
    "    error = eps + 1\n",
    "    \n",
    "    while it <= itmax and error > eps:\n",
    "        it = it + 1\n",
    "        b = a - f(a)/df(a)\n",
    "        error = np.abs(b-a)\n",
    "        a = b\n",
    "\n",
    "    if it > itmax:\n",
    "        print(\"No converge\")\n",
    "    else: \n",
    "        print(\"La raíz es: \", '{:.6f}'.format(b), \"Error: \", error, \" N° de iteraciones: \", it)\n",
    "        \n",
    "### implementación...\n",
    "x     = np.sqrt(1/5)\n",
    "itmax = 20\n",
    "eps   = 1E-4\n",
    "\n",
    "print(\"x = √1/5\")\n",
    "newtonRaphson(x, itmax, eps)\n",
    "# print(\"\\nx = √1/3\")\n",
    "# newtonRaphson(np.sqrt(1/3), itmax, eps)\n",
    "print(\"\\nx = -2\")\n",
    "newtonRaphson(-2, itmax, eps)\n",
    "print(\"\\nx = 0.01\")\n",
    "newtonRaphson(0.01, itmax, eps)\n",
    "print(\"\\nx = 0.5\")\n",
    "newtonRaphson(0.5, itmax, eps)\n",
    "print(\"\\nx = 7\")\n",
    "newtonRaphson(7, itmax, eps)"
   ]
  },
  {
   "cell_type": "markdown",
   "id": "27f06de9",
   "metadata": {},
   "source": [
    "+ En x = √1/5 la pendiente de la recta tangente se aproxima a cero.\n",
    "+ En x = √1/3 no se puede usar el método porque en ese punto df(x)=0.\n",
    "+ Para un valor inicial más alejado a la raíz, el número de iteraciones aumenta. \n",
    "+ El método puede no converger, si el valor inicial no es próximo a la raíz.\n",
    "+ Una posible forma de trabajo es inicialmente aproximar la funcion a la raíz por medio de otro método primero.\n",
    "+ En algunos casos, si no se conoce f, es posible conseguir una función equivalente a partir de datos cargados."
   ]
  },
  {
   "cell_type": "markdown",
   "id": "599ac1b3",
   "metadata": {},
   "source": [
    "3) Realice un programa del Método de Newton–Raphson para encontrar la raíz de:\n",
    "\n",
    "$i)\\>\\>\\>f(x) = \\sin{x} - \\frac{1}{2}\\sqrt{x}$\n",
    "\n",
    "$ii)\\>\\>g(x) = \\tan{x} - 0.5 x$\n",
    "\n",
    "$iii)\\>h(x) = x^{10} - 1$\n",
    "\n",
    "$iv)\\>\\>$ la raíz múltiple de $f(x) = x^3 - 5 x^2 + 7 x - 3$\n",
    "\n",
    "$v)\\>\\>\\>f(x) = x^2 – x – 2.5$\n",
    "\n",
    "    a) Analice qué dificultades podría tener en los cálculos de algunas de las raíces pedidas.\n",
    "    b) Compare y saque conclusiones."
   ]
  },
  {
   "cell_type": "code",
   "execution_count": 4,
   "id": "8e354fb7",
   "metadata": {},
   "outputs": [
    {
     "data": {
      "text/plain": [
       "[<matplotlib.lines.Line2D at 0x1f471a8dc40>]"
      ]
     },
     "execution_count": 4,
     "metadata": {},
     "output_type": "execute_result"
    },
    {
     "data": {
      "image/png": "[encoded data removed]",
      "text/plain": [
       "<Figure size 1080x360 with 2 Axes>"
      ]
     },
     "metadata": {
      "needs_background": "light"
     },
     "output_type": "display_data"
    },
    {
     "data": {
      "image/png": "[encoded data removed]",
      "text/plain": [
       "<Figure size 1080x360 with 2 Axes>"
      ]
     },
     "metadata": {
      "needs_background": "light"
     },
     "output_type": "display_data"
    },
    {
     "data": {
      "image/png": "[encoded data removed]",
      "text/plain": [
       "<Figure size 1080x360 with 1 Axes>"
      ]
     },
     "metadata": {
      "needs_background": "light"
     },
     "output_type": "display_data"
    }
   ],
   "source": [
    "import matplotlib.pyplot as plt\n",
    "import numpy as np\n",
    "\n",
    "### i ###\n",
    "def f(x):\n",
    "    return np.sin(x)-np.sqrt(x)/2 #roots: x = 0.255512... x = 2.28476...\n",
    "def df(x):\n",
    "    return np.cos(x)-1/(4*np.sqrt(x))\n",
    "\n",
    "x1 = np.linspace(0, 2.4, 100)\n",
    "y1 = f(x1)\n",
    "\n",
    "### ii ###\n",
    "def g(x):\n",
    "    return np.tan(x)-x/2 #roots: x = 0, x = +-4.274782...\n",
    "def dg(x):\n",
    "    return 1/(np.cos(x))**2-1/2\n",
    "\n",
    "x2 = np.linspace(-1, 1, 100)\n",
    "y2 = g(x2)\n",
    "\n",
    "### iii ###\n",
    "def h(x):\n",
    "    return x**10-1 #roots: x = +-1\n",
    "def dh(x):\n",
    "    return 10*(x**9)\n",
    "\n",
    "x3 = np.linspace(0, 2, 100)\n",
    "y3 = h(x3)\n",
    "\n",
    "### iv ###\n",
    "def p(x):\n",
    "    return x**3-5*(x**2)+7*x-3 #roots: x = 1, X = 3\n",
    "def dp(x):\n",
    "    return 3*(x**2)-10*x+7\n",
    "\n",
    "x4 = np.linspace(0.5, 3.5, 100)\n",
    "y4 = p(x4)\n",
    "\n",
    "### v ###\n",
    "def q(x):\n",
    "    return x**2-x-2.5 #roots: x = 0.5*(1+-sqrt(11))\n",
    "def dq(x):\n",
    "    return 2*x-1\n",
    "\n",
    "x5 = np.linspace(-1.3, 2.3, 100)\n",
    "y5 = q(x5)\n",
    "\n",
    "plt.figure(1, (15, 5))\n",
    "plt.subplot(121).title.set_text('f(x)=sen(x)-1/2√x')\n",
    "plt.plot(x1,y1)\n",
    "plt.subplot(122).title.set_text('g(x)=tg(x)-0.5x')\n",
    "plt.plot(x2,y2)\n",
    "\n",
    "plt.figure(2, (15, 5))\n",
    "plt.figure(2, (15, 5))\n",
    "plt.subplot(121).title.set_text('h(x)=x^10-1')\n",
    "plt.plot(x3,y3)\n",
    "plt.subplot(122).title.set_text('p(x)=x^3-5x^2+7x-3')\n",
    "plt.plot(x4,y4)\n",
    "\n",
    "plt.figure(3, (15, 5))\n",
    "plt.subplot(121).title.set_text('q(x)=x^2–x–2.5')\n",
    "plt.plot(x5, y5)\n"
   ]
  },
  {
   "cell_type": "code",
   "execution_count": 5,
   "id": "dd2ddc5a",
   "metadata": {},
   "outputs": [],
   "source": [
    "### Método de Newton–Raphson con f() y df/d de entrada\n",
    "\n",
    "def newtonRaphsonf(a, itmax, eps, f, df):\n",
    "    it = 0\n",
    "    error = eps + 1\n",
    "    \n",
    "    while it <= itmax and error > eps:\n",
    "        it = it + 1\n",
    "        b = a - f(a)/df(a)\n",
    "        error = np.abs(b-a)\n",
    "        a = b\n",
    "        \n",
    "    if it > itmax:\n",
    "        print(\"No converge\")\n",
    "    else: \n",
    "        print(\"La raíz es: \", '{:.6f}'.format(b), \"Error: \", error, \" N° de iteraciones: \", it)\n",
    "\n",
    "### implementación...\n",
    "itmax = 40\n",
    "eps   = 1E-4\n",
    "       "
   ]
  },
  {
   "cell_type": "markdown",
   "id": "65cd4ae6",
   "metadata": {},
   "source": [
    "### Figura 1) $f(x) = \\sin{x} - \\frac{1}{2}\\sqrt{x}$\n",
    "+ 2 ceros cercanos (próximos a x=0)\n",
    "+ en x = 1.35428... presenta un max (df=0), el método da error\n",
    "+ lo mismo ocurre en x = 0.0627467, donde se presenta un mín "
   ]
  },
  {
   "cell_type": "code",
   "execution_count": 6,
   "id": "301fc608",
   "metadata": {},
   "outputs": [
    {
     "name": "stdout",
     "output_type": "stream",
     "text": [
      "La raíz es:  0.255512 Error:  1.34435938152766e-05  N° de iteraciones:  3\n",
      "La raíz es:  2.284761 Error:  9.633283645049673e-05  N° de iteraciones:  3\n"
     ]
    }
   ],
   "source": [
    "# newtonRaphsonf(0  , itmax, eps, f, df)  #roots: x = 0.25551... x = 2.28476...\n",
    "# newtonRaphsonf(1  , itmax, eps, f, df)\n",
    "newtonRaphsonf(0.5, itmax, eps, f, df)\n",
    "newtonRaphsonf(2.5, itmax, eps, f, df)"
   ]
  },
  {
   "cell_type": "markdown",
   "id": "0f01d4a3",
   "metadata": {},
   "source": [
    "### Figura 2) $g(x) = \\tan{x} - 0.5 x$\n",
    "+ asíntota en $x=\\pi/2\\approx1.57$, el método se demora en converger. Gráficamente, se trazan muchas rectas tangentes hasta llegar al punto. \n",
    "+ punto de inflexión en el cero de la función x=0, el método se demora en alcanzar la convergencia."
   ]
  },
  {
   "cell_type": "code",
   "execution_count": 7,
   "id": "4d7f9289",
   "metadata": {},
   "outputs": [
    {
     "name": "stdout",
     "output_type": "stream",
     "text": [
      "La raíz es:  0.000000 Error:  3.0494883074879547e-09  N° de iteraciones:  3\n",
      "La raíz es:  0.000000 Error:  6.909772570762767e-07  N° de iteraciones:  15\n"
     ]
    }
   ],
   "source": [
    "newtonRaphsonf(0.1, itmax, eps, g, dg) #roots: x = 0, x = +-4.274782...\n",
    "newtonRaphsonf(1.57, itmax, eps, g, dg)"
   ]
  },
  {
   "cell_type": "markdown",
   "id": "1162a3b6",
   "metadata": {},
   "source": [
    "### Figura 3) $h(x) = x^{10} - 1$\n",
    "+ pendiente próxima a cero por izquierda, conviene usar un punto de inicio x0 a la derecha de la raíz para que el método sea más rápido "
   ]
  },
  {
   "cell_type": "code",
   "execution_count": 97,
   "id": "39edfe49",
   "metadata": {},
   "outputs": [
    {
     "name": "stdout",
     "output_type": "stream",
     "text": [
      "No converge\n",
      "La raíz es:  1.000000 Error:  8.539065630142062e-06  N° de iteraciones:  27\n",
      "La raíz es:  1.000000 Error:  3.8126681116690264e-06  N° de iteraciones:  7\n"
     ]
    }
   ],
   "source": [
    "newtonRaphsonf(0.1, itmax, eps, h, dh) #roots: x = +-1\n",
    "newtonRaphsonf(0.6, itmax, eps, h, dh)\n",
    "newtonRaphsonf(1.4,   itmax, eps, h, dh)"
   ]
  },
  {
   "cell_type": "markdown",
   "id": "23fbf792",
   "metadata": {},
   "source": [
    "### Figura 4) $f(x) = x^3 - 5 x^2 + 7 x - 3$\n",
    "+ ceros dobles en x=1 y un cero simple en x=3\n",
    "+ en x=1 la función tiene máx relativo y en x=2.333... un mínimo. El método se demora para converger."
   ]
  },
  {
   "cell_type": "code",
   "execution_count": 14,
   "id": "8c9a3528",
   "metadata": {},
   "outputs": [
    {
     "name": "stdout",
     "output_type": "stream",
     "text": [
      "La raíz es:  0.999912 Error:  8.824468365387084e-05  N° de iteraciones:  14\n",
      "La raíz es:  1.000088 Error:  8.752567165815073e-05  N° de iteraciones:  12\n",
      "La raíz es:  0.999912 Error:  8.824468261314777e-05  N° de iteraciones:  13\n",
      "La raíz es:  3.000000 Error:  2.987608096693961e-05  N° de iteraciones:  5\n"
     ]
    }
   ],
   "source": [
    "newtonRaphsonf(0, itmax, eps, p, dp) #roots: x = 1, X = 3\n",
    "newtonRaphsonf(1.5, itmax, eps, p, dp)\n",
    "# newtonRaphsonf(2.0, itmax, eps, p, dp)\n",
    "newtonRaphsonf(2.1, itmax, eps, p, dp)\n",
    "newtonRaphsonf(3.9, itmax, eps, p, dp)"
   ]
  },
  {
   "cell_type": "markdown",
   "id": "a3b81995",
   "metadata": {},
   "source": [
    "### Figura 5) $f(x) = x^2 – x – 2.5$\n",
    "+ ceros x=-1.16 y x=2.16\n",
    "+ en x=0.5 la función tiene un mínimo absoluto. Si se toma el valor inicial cerca de este punto el método se demora.\n"
   ]
  },
  {
   "cell_type": "code",
   "execution_count": 99,
   "id": "f5933ec6",
   "metadata": {},
   "outputs": [
    {
     "name": "stdout",
     "output_type": "stream",
     "text": [
      "La raíz es:  -1.158312 Error:  9.344732902594188e-06  N° de iteraciones:  4\n",
      "La raíz es:  -1.158312 Error:  6.429582046774129e-07  N° de iteraciones:  8\n",
      "La raíz es:  -1.158312 Error:  8.691657171766565e-09  N° de iteraciones:  15\n",
      "La raíz es:  2.158312 Error:  8.691656727677355e-09  N° de iteraciones:  15\n",
      "La raíz es:  2.158312 Error:  9.344732903038278e-06  N° de iteraciones:  4\n"
     ]
    }
   ],
   "source": [
    "newtonRaphsonf(-2, itmax, eps, q, dq) #roots: x = 0.5*(1+-sqrt(11))\n",
    "newtonRaphsonf(0.4, itmax, eps, q, dq)\n",
    "newtonRaphsonf(0.499, itmax, eps, q, dq)\n",
    "newtonRaphsonf(0.501, itmax, eps, q, dq)\n",
    "newtonRaphsonf(3, itmax, eps, q, dq)"
   ]
  },
  {
   "cell_type": "markdown",
   "id": "2f777c00",
   "metadata": {},
   "source": [
    "**Conclusión:** el comportamiento del método depende de la forma de la función. Con valor inicial en los puntos donde la derivada de la función es cero no se puede aplicar el método, y con un valor de la derivada es muy pequeño (por ej. múltiples ceros) puede o no converger y el número de iteraciones puede ser elevado. Lo mismo ocurre si el valor inicial está cerca de una asíntota, o muy alejado de la raíz que se quiere obtener.\n",
    "\n",
    "No puedo iniciar el valor en el punto de la raíz, cuando su derivada es cero (no puedo dividir por cero)\n",
    "Cuando las raíces son multiples, al rededor de las mismas la derivada es muy pequeña, xn+1=xn-f/f', el valor de 1/f' es muy grande."
   ]
  }
 ],
 "metadata": {
  "kernelspec": {
   "display_name": "Python 3 (ipykernel)",
   "language": "python",
   "name": "python3"
  },
  "language_info": {
   "codemirror_mode": {
    "name": "ipython",
    "version": 3
   },
   "file_extension": ".py",
   "mimetype": "text/x-python",
   "name": "python",
   "nbconvert_exporter": "python",
   "pygments_lexer": "ipython3",
   "version": "3.9.7"
  }
 },
 "nbformat": 4,
 "nbformat_minor": 5
}
