{
 "cells": [
  {
   "cell_type": "markdown",
   "id": "82107888",
   "metadata": {},
   "source": [
    "## TP5 - Integración numérica\n",
    "### CÁLCULOS AUXILIARES"
   ]
  },
  {
   "cell_type": "markdown",
   "id": "4bc4c15a",
   "metadata": {},
   "source": [
    "1) \n",
    "\n",
    "$f(x)=x^7−15x^3+10x+20$ definida entre (0, 2)"
   ]
  },
  {
   "cell_type": "code",
   "execution_count": 1,
   "id": "8148a7f0",
   "metadata": {},
   "outputs": [
    {
     "data": {
      "image/png": "[encoded data removed]",
      "text/plain": [
       "<Figure size 432x288 with 1 Axes>"
      ]
     },
     "metadata": {
      "needs_background": "light"
     },
     "output_type": "display_data"
    }
   ],
   "source": [
    "import numpy as np\n",
    "import matplotlib.pyplot as plt\n",
    "\n",
    "x = np.linspace(0,2,100)\n",
    "\n",
    "def f(x):\n",
    "    return x**7-15*(x**3)+10*x+20\n",
    "def df2(x):\n",
    "    return 42*(x**5)-90*x\n",
    "def df4(x):\n",
    "    return 840*(x**3)\n",
    "\n",
    "plt.plot(x,f(x))\n",
    "plt.show()"
   ]
  },
  {
   "cell_type": "markdown",
   "id": "9926685f",
   "metadata": {},
   "source": [
    "**Regla de Simpson Compuesta** cálculos en papel "
   ]
  },
  {
   "cell_type": "code",
   "execution_count": 37,
   "id": "2dc6fe40",
   "metadata": {},
   "outputs": [
    {
     "name": "stdout",
     "output_type": "stream",
     "text": [
      "1  impar  0.2857142857142857 22.507444055744507\n",
      "2  par  0.5714285714285714 22.935346423926863\n",
      "3  impar  0.8571428571428571 19.465281108575994\n",
      "4  par  1.1428571428571428 11.584400571676284\n",
      "5  impar  1.4285714285714284 2.696592649078436\n",
      "6  par  1.714285714285714 5.083678690730167\n",
      "0.9634168927369196\n",
      "44.66931781339893 39.60342568633331\n"
     ]
    }
   ],
   "source": [
    "i = 0\n",
    "par = 0\n",
    "impar = 0\n",
    "for k in range(1,7):\n",
    "    i = i+2/7\n",
    "    if k%2==0:\n",
    "        par = par + f(i)\n",
    "        print(k,\" par \", i, f(i))\n",
    "    else:\n",
    "        impar = impar + f(i)\n",
    "        print(k,\" impar \", i, f(i))\n",
    "    \n",
    "print(32-(20+4*impar+2*par+48)*2/21)\n",
    "print(impar,par)\n",
    "    "
   ]
  },
  {
   "cell_type": "markdown",
   "id": "7b516325",
   "metadata": {},
   "source": [
    "**Cota de error (Esc)**"
   ]
  },
  {
   "cell_type": "code",
   "execution_count": 42,
   "id": "0033645d",
   "metadata": {},
   "outputs": [
    {
     "name": "stdout",
     "output_type": "stream",
     "text": [
      "0 0\n",
      "0.2857142857142857 19.591836734693874\n",
      "0.5714285714285714 156.734693877551\n",
      "0.8571428571428571 528.9795918367347\n",
      "1.1428571428571428 1253.877551020408\n",
      "1.4285714285714284 2448.9795918367336\n",
      "1.714285714285714 4231.836734693875\n",
      "1.9999999999999996 6719.999999999995\n",
      "29.854227405247798\n"
     ]
    }
   ],
   "source": [
    "i = 0\n",
    "suma = 0\n",
    "for k in range(8):\n",
    "    suma = suma + df4(i)\n",
    "    print(i, df4(i))\n",
    "    i = i + 2/7\n",
    "\n",
    "print(2*suma/1029)\n"
   ]
  },
  {
   "cell_type": "code",
   "execution_count": null,
   "id": "f124f156",
   "metadata": {},
   "outputs": [],
   "source": []
  }
 ],
 "metadata": {
  "kernelspec": {
   "display_name": "Python 3 (ipykernel)",
   "language": "python",
   "name": "python3"
  },
  "language_info": {
   "codemirror_mode": {
    "name": "ipython",
    "version": 3
   },
   "file_extension": ".py",
   "mimetype": "text/x-python",
   "name": "python",
   "nbconvert_exporter": "python",
   "pygments_lexer": "ipython3",
   "version": "3.9.7"
  }
 },
 "nbformat": 4,
 "nbformat_minor": 5
}
