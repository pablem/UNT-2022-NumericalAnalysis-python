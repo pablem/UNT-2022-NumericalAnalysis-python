{
 "cells": [
  {
   "cell_type": "markdown",
   "metadata": {},
   "source": [
    "# Trabajo Práctico 1\n",
    "## TEORÍA DE ERRORES"
   ]
  },
  {
   "cell_type": "markdown",
   "metadata": {
    "id": "GHyLmMT8ouXG"
   },
   "source": [
    "## Ejercicio 2) ## \n",
    "\n",
    "La serie infinita $f(n)=\\sum_{k=1}^n(1/i^4)$ converge a  un valor de $pi^4/90$ conforme n tiende a infinito. \n",
    "\n",
    "+ Escriba un programa de simple precisión para calcular f(n) para n=10000 por medio del cálculo de la suma desde i = 1 hasta 10000. Después realice el cálculo en sentido inverso. Modularice su trabajo.\n",
    "+ En cada caso, calcule el error relativo. \n",
    "+ Explique los resultados. \n",
    "\n",
    "\n",
    "Nota: Investigue sobre los distintos tipos de precisión que permite Python usando Numpy."
   ]
  },
  {
   "cell_type": "code",
   "execution_count": 2,
   "metadata": {
    "id": "IOJmLl_pouXG"
   },
   "outputs": [
    {
     "name": "stdout",
     "output_type": "stream",
     "text": [
      "Suma ascendente:   1.0823228\n",
      "Suma descendente:  1.0823231\n",
      "\n",
      "Valor verdadero:   1.0823232\n",
      "\n",
      "Error relativo asc. :  0.000037 %\n",
      "Error relativo desc.:  0.000015 %\n"
     ]
    }
   ],
   "source": [
    "import numpy as np\n",
    "\n",
    "x1 = np.linspace(1,10000,10000)\n",
    "x2 = np.flipud(x1)  #revertir arreglo\n",
    "\n",
    "y1 = np.single(1) / (np.single(x1)) ** np.single(4)\n",
    "y2 = np.single(1) / (np.single(x2)) ** np.single(4)\n",
    "\n",
    "suma1 = y1.sum()\n",
    "suma2 = y2.sum()\n",
    "\n",
    "real = (np.pi ** 4) / 90\n",
    "\n",
    "error1 = (real - suma1) / real * 100\n",
    "error2 = (real - suma2) / real * 100 # error 2 -> suma revertido\n",
    "\n",
    "print(\"Suma ascendente:  \", suma1)\n",
    "print(\"Suma descendente: \", suma2)\n",
    "\n",
    "print(\"\\nValor verdadero:  \", '{:.7f}'.format(real))\n",
    "\n",
    "print(\"\\nError relativo asc. : \", '{:.6f}'.format(error1), \"%\")\n",
    "print(\"Error relativo desc.: \", '{:.6f}'.format(error2), \"%\")\n",
    "\n"
   ]
  },
  {
   "cell_type": "markdown",
   "metadata": {},
   "source": [
    "+  A medida que se opera con números con coma flotante se introduce un error de representación porque hay números decimales (irracionales o racionales) que no tienen una representación finita en binario, por lo que la máquina redondea al número de cifras significativas con una presición dada por el número de mantisa.\n",
    "+  La suma en orden creciente de $(1/i^4)$, es decir, sumando primero los números más grandes, tiene mayor error que al sumar primero los números más chicos. Esto se interpreta de manera similar al ejercicio anterior: hay mayor precisión al representar números pequeños que números grandes. por lo tanto se comete menor error de representación si tenemos más operaciones con números pequeños y mayor error con operaciones con números grandes. \n",
    "+  Tipos de precisión: https://numpy.org/doc/stable/user/basics.types.html\n",
    "+  Límites de la máquina para los tipos de punto flotante: https://runebook.dev/es/docs/numpy/reference/generated/numpy.finfo\n",
    "+  y1 = np.float32(1) / (np.float32(x1)) ** np.float32(4) (otra forma de expresar)"
   ]
  },
  {
   "cell_type": "markdown",
   "metadata": {
    "id": "GHyLmMT8ouXG"
   },
   "source": [
    "## Ejercicio 4) ## \n",
    "\n",
    "4) Considere la función: $f(x)=\\frac{e^x-e^{-x}}{2x}$, para $x\\neq0$\n",
    "\n",
    "  a) Calcule el $\\lim_{x\\to0}f(x)$ analíticamente.\n",
    "\n",
    "  b) Calcule numéricamente con un programa en Python. ¿Qué ocurre cuando se intenta evaluar la función para valores de x pequeños? Considere $f(x)$ para $x=10^{-n}$ , con $n = 1, ..., 20.$\n"
   ]
  },
  {
   "cell_type": "code",
   "execution_count": 14,
   "metadata": {
    "scrolled": true
   },
   "outputs": [
    {
     "name": "stdout",
     "output_type": "stream",
     "text": [
      "n = 1    1.0016675001984409743016612993    e^x = 1.1051709180756477124418779567    e^-x = 0.9048374180359595175815456969    \n",
      "n = 2    1.0000166667499921224759873439    e^x = 1.0100501670841679491275044711    e^-x = 0.9900498337491681066779847242    \n",
      "n = 3    1.0000001666666813449069195485    e^x = 1.0010005001667083845973138523    e^-x = 0.9990004998333750219075000132    \n",
      "n = 4    1.0000000016668897373506297299    e^x = 1.0001000050001667140975314396    e^-x = 0.9999000049998333361500613137    \n",
      "n = 5    1.0000000000121023191468339064    e^x = 1.0000100000500000696490587870    e^-x = 0.9999900000499998276026758504    \n",
      "n = 6    0.9999999999732445132849534275    e^x = 1.0000010000004999621836532242    e^-x = 0.9999990000005000156946266543    \n",
      "n = 7    0.9999999994736441522036329843    e^x = 1.0000001000000049433680260336    e^-x = 0.9999999000000050486391955928    \n",
      "n = 8    0.9999999939225290290778502822    e^x = 1.0000000099999999392252902908    e^-x = 0.9999999900000000607747097092    \n",
      "n = 9    1.0000000272292197678325464949    e^x = 1.0000000010000000827403709991    e^-x = 0.9999999990000000282819314634    \n",
      "n = 10   1.0000000827403709990903735161    e^x = 1.0000000001000000082740370999    e^-x = 0.9999999998999999917259629001    \n",
      "n = 11   1.0000000827403709990903735161    e^x = 1.0000000000100000008274037100    e^-x = 0.9999999999899999991725962900    \n",
      "n = 12   1.0000333894311097537865862250    e^x = 1.0000000000010000889005823410    e^-x = 0.9999999999990000221217201215    \n",
      "n = 13   0.9997558336749534646514803171    e^x = 1.0000000000000999200722162641    e^-x = 0.9999999999998999689054812734    \n",
      "n = 14   0.9992007221626408863812685013    e^x = 1.0000000000000099920072216264    e^-x = 0.9999999999999900079927783736    \n",
      "n = 15   1.0547118733938987134024500847    e^x = 1.0000000000000011102230246252    e^-x = 0.9999999999999990007992778374    \n",
      "n = 16   0.5551115123125782702118158340    e^x = 1.0000000000000000000000000000    e^-x = 0.9999999999999998889776975375    \n",
      "n = 17   0.0000000000000000000000000000    e^x = 1.0000000000000000000000000000    e^-x = 1.0000000000000000000000000000    \n",
      "n = 18   0.0000000000000000000000000000    e^x = 1.0000000000000000000000000000    e^-x = 1.0000000000000000000000000000    \n",
      "n = 19   0.0000000000000000000000000000    e^x = 1.0000000000000000000000000000    e^-x = 1.0000000000000000000000000000    \n",
      "n = 20   0.0000000000000000000000000000    e^x = 1.0000000000000000000000000000    e^-x = 1.0000000000000000000000000000    \n"
     ]
    }
   ],
   "source": [
    "import numpy as np\n",
    "\n",
    "for n in range(1,21):\n",
    "    x=10**(-n)\n",
    "    y=(np.e**x-np.e**(-x))/(2*x)\n",
    "    print('{:<4s}{:<5d}{:<34.28f}{:<6s}{:<34.28f}{:<7s}{:<34.28f}'.format(\"n =\", n, y, \"e^x = \", np.e**(x), \"e^-x = \", np.e**(-x)))"
   ]
  },
  {
   "cell_type": "markdown",
   "metadata": {},
   "source": [
    "+  Por defecto se trabaja con dole precisión, esto es, con una mantisa de 52 bits. \n",
    "+  Cuando el valor de x se aproxima a 1 (por izquierda o por derecha), llega a un punto donde no se puede representar con tanta precisión el resultado y es redondeado (underflow).\n",
    "+  Para ver la conversión a formato IEEE754 con doble precisión: https://www.zator.com/Cpp/E2_2_4a1.htm"
   ]
  },
  {
   "cell_type": "code",
   "execution_count": 58,
   "metadata": {},
   "outputs": [
    {
     "name": "stdout",
     "output_type": "stream",
     "text": [
      "e^(10E-15) =\n",
      "1.000000000000001110223024625156540423631668090820312500000000\n",
      "1.000000000000000000000000000000000000000000000000010100000000\n",
      "                                                     ↑\n",
      "                              52 cifras significativas\n",
      "e^(-10E-16) =\n",
      "0.999999999999999888977697537484345957636833190917968750000000\n",
      "0.111111111111111111111111111111111111111111111111111110000000\n"
     ]
    }
   ],
   "source": [
    "x = 10**(-15)\n",
    "print(\"e^(10E-15) =\")\n",
    "print('{:.60f}'.format(np.e**(x)))\n",
    "print('1.000000000000000000000000000000000000000000000000010100000000') #https://www.zator.com/Cpp/E2_2_4a1.htm\n",
    "print('{:>54s}'.format(\"↑\"))\n",
    "print('{:>54s}'.format(\"52 cifras significativas\"))\n",
    "\n",
    "x = 10**(-16)\n",
    "print(\"e^(-10E-16) =\")\n",
    "print('{:.60f}'.format(np.e**(-x)))\n",
    "print('0.111111111111111111111111111111111111111111111111111110000000') #https://www.zator.com/Cpp/E2_2_4a1.htm"
   ]
  },
  {
   "cell_type": "markdown",
   "metadata": {},
   "source": [
    "## Ejercicio 5) ## \n",
    "Escriba en Python un programa para calcular:\n",
    "\n",
    "$f(x) = x^8 − 8𝑥^7 + 28𝑥^6 − 56𝑥^5 + 70𝑥^4 − 56𝑥^3 + 28𝑥^2 − 8𝑥 + 1$\n",
    "\n",
    "$g(x) = (𝑥 − 1)^8$\n",
    "\n",
    "en puntos igualmente espaciados sobre el intervalo [0.999, 1.001]. \n",
    "\n",
    "Grafique f(x) y g(x)."
   ]
  },
  {
   "cell_type": "code",
   "execution_count": 2,
   "metadata": {},
   "outputs": [
    {
     "data": {
      "text/plain": [
       "[<matplotlib.lines.Line2D at 0x2a1ab367760>]"
      ]
     },
     "execution_count": 2,
     "metadata": {},
     "output_type": "execute_result"
    },
    {
     "data": {
      "image/png": "[encoded data removed]",
      "text/plain": [
       "<Figure size 1000x500 with 2 Axes>"
      ]
     },
     "metadata": {
      "needs_background": "light"
     },
     "output_type": "display_data"
    }
   ],
   "source": [
    "import numpy as np\n",
    "import matplotlib.pyplot as plt\n",
    "\n",
    "x=np.linspace(0.999,1.001,150)\n",
    "\n",
    "f = x**8 - 8*(x**7) + 28*(x**6) - 56*(x**5) + 70*(x**4) - 56*(x**3) + 28*(x**2) - 8*x + 1\n",
    "\n",
    "g = (x-1)**8\n",
    "\n",
    "# plt.plot(x,f)\n",
    "# plt.plot(x,g)\n",
    "# plt.legend(('f(x)','g(x)'), loc='upper left')\n",
    "\n",
    "plt.figure(1, (20,10), 50)\n",
    "\n",
    "plt.subplot(2,1,1)\n",
    "plt.plot(x,f)\n",
    "\n",
    "plt.subplot(2,1,2)\n",
    "plt.plot(x,g)\n"
   ]
  },
  {
   "cell_type": "markdown",
   "metadata": {},
   "source": [
    "+ Ambas funciones son equivalentes. Tienen 8 ceros repetidos en 1, por lo tanto ambas gráficas deberían ser idénticas, cortando por el eje x en un sólo punto.\n",
    "\n",
    "+ f(x) presenta un error de representación, es decir que, en algunas operaciones hubo underflow. La curva tiene valores negativos, el resultado de la resta no pudo ser representable con suficiente precisión.\n",
    "\n",
    "        ERROR DE SIGNIFICACIÓN. En este caso, cuando se restan cantidades muy próximas entre si, se pierden cifras significativas.\n",
    "\n",
    "+ Una posible solución sería usar el algoritmo de Horner para reducir el número de operaciones."
   ]
  },
  {
   "cell_type": "code",
   "execution_count": 7,
   "metadata": {},
   "outputs": [
    {
     "name": "stdout",
     "output_type": "stream",
     "text": [
      "[0. 0. 0. 0. 0. 0. 0. 0. 0. 0. 0. 0. 0. 0. 0. 0. 0. 0. 0. 0. 0. 0. 0. 0.\n",
      " 0. 0. 0. 0. 0. 0. 0. 0. 0. 0. 0. 0. 0. 0. 0. 0. 0. 0. 0. 0. 0. 0. 0. 0.\n",
      " 0. 0. 0. 0. 0. 0. 0. 0. 0. 0. 0. 0. 0. 0. 0. 0. 0. 0. 0. 0. 0. 0. 0. 0.\n",
      " 0. 0. 0. 0. 0. 0. 0. 0. 0. 0. 0. 0. 0. 0. 0. 0. 0. 0. 0. 0. 0. 0. 0. 0.\n",
      " 0. 0. 0. 0. 0. 0. 0. 0. 0. 0. 0. 0. 0. 0. 0. 0. 0. 0. 0. 0. 0. 0. 0. 0.\n",
      " 0. 0. 0. 0. 0. 0. 0. 0. 0. 0. 0. 0. 0. 0. 0. 0. 0. 0. 0. 0. 0. 0. 0. 0.\n",
      " 0. 0. 0. 0. 0. 0.]\n"
     ]
    }
   ],
   "source": [
    "#con una menor precisión se pierden valores próximos a 1\n",
    "h = (np.half(x)-np.half(1))**np.half(8)\n",
    "print(h)"
   ]
  },
  {
   "cell_type": "markdown",
   "metadata": {},
   "source": [
    "## Ejercicio 6)\n",
    "Usando Python realice la siguiente suma:\n",
    "\n",
    "$S = 0.1 + 0.1 + 0.1 + 0.1 + 0.1 + 0.1 + 0.1 + 0.1 + 0.1 + 0.1$\n",
    "\n",
    "¿El resultado obtenido es correcto?, caso contrario explique qué está sucediendo y como podría\n",
    "obtener la solución correcta."
   ]
  },
  {
   "cell_type": "code",
   "execution_count": 42,
   "metadata": {},
   "outputs": [
    {
     "name": "stdout",
     "output_type": "stream",
     "text": [
      "0.9999999999999999\n",
      "1.0\n"
     ]
    }
   ],
   "source": [
    "s = 0.1+0.1+0.1+0.1+0.1+0.1+0.1+0.1+0.1+0.1\n",
    "print(s)\n",
    "\n",
    "suma = 0.1*10\n",
    "print(suma)"
   ]
  },
  {
   "cell_type": "markdown",
   "metadata": {},
   "source": [
    "+ El número 0.1 no se puede representar en binario de forma exacta puesto que la conversión tiende al infinito en periódico mixto. Por lo que la máquina redondea a 53 bits significativos (doble precisión).\n",
    "+ Por lo tanto con cada operación se contribuye al error de representación del resultado aproximado."
   ]
  },
  {
   "cell_type": "code",
   "execution_count": 66,
   "metadata": {},
   "outputs": [
    {
     "name": "stdout",
     "output_type": "stream",
     "text": [
      "0.1000000000000000055511151231257827021181583404541015625\n",
      "0.99999999999999988897769753748434595763683319091796875\n"
     ]
    }
   ],
   "source": [
    "import decimal as dc\n",
    "\n",
    "print(dc.Decimal(0.1))\n",
    "print(dc.Decimal(0.1+0.1+0.1+0.1+0.1+0.1+0.1+0.1+0.1+0.1))"
   ]
  },
  {
   "cell_type": "markdown",
   "metadata": {},
   "source": [
    "## Ejercicio 7)\n",
    "Utilizando la función round, pruebe redondear los valores 3.45 y 5.55 con 1 cifra decimal. ¿Obtiene\n",
    "los valores esperados? En Python, verifique los valores representados en la mantisa utilizando la\n",
    "función Decimal de la librería decimal."
   ]
  },
  {
   "cell_type": "code",
   "execution_count": 13,
   "metadata": {},
   "outputs": [
    {
     "name": "stdout",
     "output_type": "stream",
     "text": [
      "3.5  y  5.5\n",
      "3.45000000000000017763568394002504646778106689453125\n",
      "5.54999999999999982236431605997495353221893310546875\n"
     ]
    }
   ],
   "source": [
    "import decimal as dc\n",
    "\n",
    "a=round(3.45,1)\n",
    "b=round(5.55,1)\n",
    "print(a, \" y \", b)\n",
    "\n",
    "a=dc.Decimal(3.45)\n",
    "print(a)\n",
    "b=dc.Decimal(5.55)\n",
    "print(b)"
   ]
  },
  {
   "cell_type": "markdown",
   "metadata": {},
   "source": [
    "$5.55\\neq5.5$\n",
    "+ Los números son almacenados con una mantisa normalizada (en binario), cuando vemos la equivalencia de esa representación en decimal observamos por qué se redondea \"incorrectamente\" el segundo número."
   ]
  },
  {
   "cell_type": "code",
   "execution_count": null,
   "metadata": {},
   "outputs": [],
   "source": []
  }
 ],
 "metadata": {
  "colab": {
   "collapsed_sections": [
    "APYYZKg0ouWx"
   ],
   "name": "IntroPython2021.ipynb",
   "provenance": [
    {
     "file_id": "1NWyRLoMt5lfGgPdCgloZcPdZD0L96BNa",
     "timestamp": 1598225066848
    }
   ]
  },
  "kernelspec": {
   "display_name": "Python 3 (ipykernel)",
   "language": "python",
   "name": "python3"
  },
  "language_info": {
   "codemirror_mode": {
    "name": "ipython",
    "version": 3
   },
   "file_extension": ".py",
   "mimetype": "text/x-python",
   "name": "python",
   "nbconvert_exporter": "python",
   "pygments_lexer": "ipython3",
   "version": "3.9.7"
  }
 },
 "nbformat": 4,
 "nbformat_minor": 1
}
